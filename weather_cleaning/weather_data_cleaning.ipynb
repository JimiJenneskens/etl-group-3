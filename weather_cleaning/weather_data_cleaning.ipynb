{
 "cells": [
  {
   "cell_type": "markdown",
   "metadata": {},
   "source": [
    "# Merging weather variables.\n",
    "\n",
    "In this notebook four csv is joined as one single table conatinen four weather  at a state level in 2019, which are:\n",
    "\n",
    "1. Precipitation in mm annualy\n",
    "\n",
    "2. Maximum temperature in °C annualy\n",
    "\n",
    "3. Minimum temperature in °C annualy\n",
    "\n",
    "4. Mean temperature in °C annualy"
   ]
  },
  {
   "cell_type": "code",
   "execution_count": 1,
   "metadata": {},
   "outputs": [],
   "source": [
    "import pandas as pd"
   ]
  },
  {
   "cell_type": "code",
   "execution_count": 2,
   "metadata": {},
   "outputs": [
    {
     "output_type": "stream",
     "name": "stdout",
     "text": [
      "rain_2019.csv\n"
     ]
    }
   ],
   "source": [
    "path = \"rain_2019.csv\"\n",
    "print(path)"
   ]
  },
  {
   "cell_type": "code",
   "execution_count": 3,
   "metadata": {},
   "outputs": [
    {
     "output_type": "execute_result",
     "data": {
      "text/plain": [
       "               Entidad   Ene   Feb   Mar   Abr   May    Jun    Jul    Ago  \\\n",
       "0       Aguascalientes  11.3   0.0   0.4   0.0   2.5   45.7  101.3  123.4   \n",
       "1      Baja California  17.8  49.5  13.4   1.2   5.6    0.0    5.1    3.0   \n",
       "2  Baja California Sur  11.1   3.1   6.1   0.0   0.6    0.0    6.9   31.9   \n",
       "3             Campeche  26.7  14.2  34.6  32.7  72.6  250.9  156.8  124.7   \n",
       "4             Coahuila   6.9   0.6  11.3  12.3  30.8   49.9   22.3   21.5   \n",
       "\n",
       "     Sep    Oct   Nov   Dic   Anual  \n",
       "0   78.1   40.5  33.7  16.2   453.1  \n",
       "1   14.0    1.9  53.1  41.6   206.1  \n",
       "2   60.0   45.1  91.1  14.7   270.6  \n",
       "3  182.8  235.3  90.5  81.4  1303.2  \n",
       "4   60.6   19.6  22.1   3.6   261.5  "
      ],
      "text/html": "<div>\n<style scoped>\n    .dataframe tbody tr th:only-of-type {\n        vertical-align: middle;\n    }\n\n    .dataframe tbody tr th {\n        vertical-align: top;\n    }\n\n    .dataframe thead th {\n        text-align: right;\n    }\n</style>\n<table border=\"1\" class=\"dataframe\">\n  <thead>\n    <tr style=\"text-align: right;\">\n      <th></th>\n      <th>Entidad</th>\n      <th>Ene</th>\n      <th>Feb</th>\n      <th>Mar</th>\n      <th>Abr</th>\n      <th>May</th>\n      <th>Jun</th>\n      <th>Jul</th>\n      <th>Ago</th>\n      <th>Sep</th>\n      <th>Oct</th>\n      <th>Nov</th>\n      <th>Dic</th>\n      <th>Anual</th>\n    </tr>\n  </thead>\n  <tbody>\n    <tr>\n      <th>0</th>\n      <td>Aguascalientes</td>\n      <td>11.3</td>\n      <td>0.0</td>\n      <td>0.4</td>\n      <td>0.0</td>\n      <td>2.5</td>\n      <td>45.7</td>\n      <td>101.3</td>\n      <td>123.4</td>\n      <td>78.1</td>\n      <td>40.5</td>\n      <td>33.7</td>\n      <td>16.2</td>\n      <td>453.1</td>\n    </tr>\n    <tr>\n      <th>1</th>\n      <td>Baja California</td>\n      <td>17.8</td>\n      <td>49.5</td>\n      <td>13.4</td>\n      <td>1.2</td>\n      <td>5.6</td>\n      <td>0.0</td>\n      <td>5.1</td>\n      <td>3.0</td>\n      <td>14.0</td>\n      <td>1.9</td>\n      <td>53.1</td>\n      <td>41.6</td>\n      <td>206.1</td>\n    </tr>\n    <tr>\n      <th>2</th>\n      <td>Baja California Sur</td>\n      <td>11.1</td>\n      <td>3.1</td>\n      <td>6.1</td>\n      <td>0.0</td>\n      <td>0.6</td>\n      <td>0.0</td>\n      <td>6.9</td>\n      <td>31.9</td>\n      <td>60.0</td>\n      <td>45.1</td>\n      <td>91.1</td>\n      <td>14.7</td>\n      <td>270.6</td>\n    </tr>\n    <tr>\n      <th>3</th>\n      <td>Campeche</td>\n      <td>26.7</td>\n      <td>14.2</td>\n      <td>34.6</td>\n      <td>32.7</td>\n      <td>72.6</td>\n      <td>250.9</td>\n      <td>156.8</td>\n      <td>124.7</td>\n      <td>182.8</td>\n      <td>235.3</td>\n      <td>90.5</td>\n      <td>81.4</td>\n      <td>1303.2</td>\n    </tr>\n    <tr>\n      <th>4</th>\n      <td>Coahuila</td>\n      <td>6.9</td>\n      <td>0.6</td>\n      <td>11.3</td>\n      <td>12.3</td>\n      <td>30.8</td>\n      <td>49.9</td>\n      <td>22.3</td>\n      <td>21.5</td>\n      <td>60.6</td>\n      <td>19.6</td>\n      <td>22.1</td>\n      <td>3.6</td>\n      <td>261.5</td>\n    </tr>\n  </tbody>\n</table>\n</div>"
     },
     "metadata": {},
     "execution_count": 3
    }
   ],
   "source": [
    "rain_df = pd.read_csv(\"rain_2019.csv\",delimiter=\",\", encoding='utf-8')\n",
    "rain_df.head()"
   ]
  },
  {
   "cell_type": "code",
   "execution_count": 4,
   "metadata": {},
   "outputs": [
    {
     "output_type": "execute_result",
     "data": {
      "text/plain": [
       "               Entidad   Ene   Feb   Mar   Abr   May   Jun   Jul   Ago   Sep  \\\n",
       "0       Aguascalientes  23.1  26.7  29.3  29.8  32.1  30.8  28.6  28.4  26.8   \n",
       "1      Baja California  20.4  17.9  22.2  27.6  26.4  30.6  32.7  35.3  31.8   \n",
       "2  Baja California Sur  25.2  24.7  27.6  29.7  29.2  33.1  35.4  35.4  33.6   \n",
       "3             Campeche  29.4  33.2  33.5  35.6  37.7  35.8  35.0  35.3  34.3   \n",
       "4             Coahuila  20.6  24.7  25.5  31.2  33.0  35.0  35.6  37.6  33.6   \n",
       "\n",
       "    Oct   Nov   Dic  Anual  \n",
       "0  26.0  24.4  22.6   27.4  \n",
       "1  28.5  24.3  19.0   26.4  \n",
       "2  31.9  28.2  25.2   29.9  \n",
       "3  33.2  31.1  29.9   33.7  \n",
       "4  30.1  24.7  22.9   29.5  "
      ],
      "text/html": "<div>\n<style scoped>\n    .dataframe tbody tr th:only-of-type {\n        vertical-align: middle;\n    }\n\n    .dataframe tbody tr th {\n        vertical-align: top;\n    }\n\n    .dataframe thead th {\n        text-align: right;\n    }\n</style>\n<table border=\"1\" class=\"dataframe\">\n  <thead>\n    <tr style=\"text-align: right;\">\n      <th></th>\n      <th>Entidad</th>\n      <th>Ene</th>\n      <th>Feb</th>\n      <th>Mar</th>\n      <th>Abr</th>\n      <th>May</th>\n      <th>Jun</th>\n      <th>Jul</th>\n      <th>Ago</th>\n      <th>Sep</th>\n      <th>Oct</th>\n      <th>Nov</th>\n      <th>Dic</th>\n      <th>Anual</th>\n    </tr>\n  </thead>\n  <tbody>\n    <tr>\n      <th>0</th>\n      <td>Aguascalientes</td>\n      <td>23.1</td>\n      <td>26.7</td>\n      <td>29.3</td>\n      <td>29.8</td>\n      <td>32.1</td>\n      <td>30.8</td>\n      <td>28.6</td>\n      <td>28.4</td>\n      <td>26.8</td>\n      <td>26.0</td>\n      <td>24.4</td>\n      <td>22.6</td>\n      <td>27.4</td>\n    </tr>\n    <tr>\n      <th>1</th>\n      <td>Baja California</td>\n      <td>20.4</td>\n      <td>17.9</td>\n      <td>22.2</td>\n      <td>27.6</td>\n      <td>26.4</td>\n      <td>30.6</td>\n      <td>32.7</td>\n      <td>35.3</td>\n      <td>31.8</td>\n      <td>28.5</td>\n      <td>24.3</td>\n      <td>19.0</td>\n      <td>26.4</td>\n    </tr>\n    <tr>\n      <th>2</th>\n      <td>Baja California Sur</td>\n      <td>25.2</td>\n      <td>24.7</td>\n      <td>27.6</td>\n      <td>29.7</td>\n      <td>29.2</td>\n      <td>33.1</td>\n      <td>35.4</td>\n      <td>35.4</td>\n      <td>33.6</td>\n      <td>31.9</td>\n      <td>28.2</td>\n      <td>25.2</td>\n      <td>29.9</td>\n    </tr>\n    <tr>\n      <th>3</th>\n      <td>Campeche</td>\n      <td>29.4</td>\n      <td>33.2</td>\n      <td>33.5</td>\n      <td>35.6</td>\n      <td>37.7</td>\n      <td>35.8</td>\n      <td>35.0</td>\n      <td>35.3</td>\n      <td>34.3</td>\n      <td>33.2</td>\n      <td>31.1</td>\n      <td>29.9</td>\n      <td>33.7</td>\n    </tr>\n    <tr>\n      <th>4</th>\n      <td>Coahuila</td>\n      <td>20.6</td>\n      <td>24.7</td>\n      <td>25.5</td>\n      <td>31.2</td>\n      <td>33.0</td>\n      <td>35.0</td>\n      <td>35.6</td>\n      <td>37.6</td>\n      <td>33.6</td>\n      <td>30.1</td>\n      <td>24.7</td>\n      <td>22.9</td>\n      <td>29.5</td>\n    </tr>\n  </tbody>\n</table>\n</div>"
     },
     "metadata": {},
     "execution_count": 4
    }
   ],
   "source": [
    "temp_max_df = pd.read_csv(\"temp_max_2019.csv\",delimiter=\",\", encoding='utf-8')\n",
    "temp_max_df.head()"
   ]
  },
  {
   "cell_type": "code",
   "execution_count": 5,
   "metadata": {},
   "outputs": [
    {
     "output_type": "execute_result",
     "data": {
      "text/plain": [
       "               Entidad   Ene   Feb   Mar   Abr   May   Jun   Jul   Ago   Sep  \\\n",
       "0       Aguascalientes   4.8   7.1   8.7   9.4  12.6  15.7  14.2  13.4  12.2   \n",
       "1      Baja California   8.0   6.5   9.0  13.2  14.3  17.6  18.5  20.9  18.8   \n",
       "2  Baja California Sur  12.1  12.1  13.0  15.3  15.9  19.9  23.9  24.6  23.2   \n",
       "3             Campeche  17.2  20.0  20.2  21.8  24.5  24.0  23.0  23.3  23.2   \n",
       "4             Coahuila   6.4   9.6  12.1  14.5  19.8  21.5  21.7  23.4  21.2   \n",
       "\n",
       "    Oct   Nov   Dic  Anual  \n",
       "0  11.3   8.9   5.0   10.3  \n",
       "1  13.6  11.4   8.2   13.3  \n",
       "2  19.4  17.3  12.6   17.4  \n",
       "3  23.2  20.9  18.5   21.7  \n",
       "4  15.5  10.5   6.4   15.2  "
      ],
      "text/html": "<div>\n<style scoped>\n    .dataframe tbody tr th:only-of-type {\n        vertical-align: middle;\n    }\n\n    .dataframe tbody tr th {\n        vertical-align: top;\n    }\n\n    .dataframe thead th {\n        text-align: right;\n    }\n</style>\n<table border=\"1\" class=\"dataframe\">\n  <thead>\n    <tr style=\"text-align: right;\">\n      <th></th>\n      <th>Entidad</th>\n      <th>Ene</th>\n      <th>Feb</th>\n      <th>Mar</th>\n      <th>Abr</th>\n      <th>May</th>\n      <th>Jun</th>\n      <th>Jul</th>\n      <th>Ago</th>\n      <th>Sep</th>\n      <th>Oct</th>\n      <th>Nov</th>\n      <th>Dic</th>\n      <th>Anual</th>\n    </tr>\n  </thead>\n  <tbody>\n    <tr>\n      <th>0</th>\n      <td>Aguascalientes</td>\n      <td>4.8</td>\n      <td>7.1</td>\n      <td>8.7</td>\n      <td>9.4</td>\n      <td>12.6</td>\n      <td>15.7</td>\n      <td>14.2</td>\n      <td>13.4</td>\n      <td>12.2</td>\n      <td>11.3</td>\n      <td>8.9</td>\n      <td>5.0</td>\n      <td>10.3</td>\n    </tr>\n    <tr>\n      <th>1</th>\n      <td>Baja California</td>\n      <td>8.0</td>\n      <td>6.5</td>\n      <td>9.0</td>\n      <td>13.2</td>\n      <td>14.3</td>\n      <td>17.6</td>\n      <td>18.5</td>\n      <td>20.9</td>\n      <td>18.8</td>\n      <td>13.6</td>\n      <td>11.4</td>\n      <td>8.2</td>\n      <td>13.3</td>\n    </tr>\n    <tr>\n      <th>2</th>\n      <td>Baja California Sur</td>\n      <td>12.1</td>\n      <td>12.1</td>\n      <td>13.0</td>\n      <td>15.3</td>\n      <td>15.9</td>\n      <td>19.9</td>\n      <td>23.9</td>\n      <td>24.6</td>\n      <td>23.2</td>\n      <td>19.4</td>\n      <td>17.3</td>\n      <td>12.6</td>\n      <td>17.4</td>\n    </tr>\n    <tr>\n      <th>3</th>\n      <td>Campeche</td>\n      <td>17.2</td>\n      <td>20.0</td>\n      <td>20.2</td>\n      <td>21.8</td>\n      <td>24.5</td>\n      <td>24.0</td>\n      <td>23.0</td>\n      <td>23.3</td>\n      <td>23.2</td>\n      <td>23.2</td>\n      <td>20.9</td>\n      <td>18.5</td>\n      <td>21.7</td>\n    </tr>\n    <tr>\n      <th>4</th>\n      <td>Coahuila</td>\n      <td>6.4</td>\n      <td>9.6</td>\n      <td>12.1</td>\n      <td>14.5</td>\n      <td>19.8</td>\n      <td>21.5</td>\n      <td>21.7</td>\n      <td>23.4</td>\n      <td>21.2</td>\n      <td>15.5</td>\n      <td>10.5</td>\n      <td>6.4</td>\n      <td>15.2</td>\n    </tr>\n  </tbody>\n</table>\n</div>"
     },
     "metadata": {},
     "execution_count": 5
    }
   ],
   "source": [
    "temp_min_df = pd.read_csv(\"temp_min_2019.csv\",delimiter=\",\", encoding='utf-8')\n",
    "temp_min_df.head()"
   ]
  },
  {
   "cell_type": "code",
   "execution_count": 6,
   "metadata": {},
   "outputs": [
    {
     "output_type": "execute_result",
     "data": {
      "text/plain": [
       "               Entidad   Ene   Feb   Mar   Abr   May   Jun   Jul   Ago   Sep  \\\n",
       "0       Aguascalientes  14.0  16.9  19.0  19.6  22.3  23.2  21.4  20.9  19.5   \n",
       "1      Baja California  14.3  12.2  15.6  20.4  20.4  24.1  25.6  28.1  25.3   \n",
       "2  Baja California Sur  18.7  18.4  20.3  22.5  22.6  26.5  29.6  30.0  28.4   \n",
       "3             Campeche  23.3  26.6  26.9  28.7  31.1  29.9  29.0  29.3  28.7   \n",
       "4             Coahuila  13.5  17.1  18.8  22.8  26.4  28.3  28.7  30.5  27.4   \n",
       "\n",
       "    Oct   Nov   Dic  Anual  \n",
       "0  18.6  16.7  13.8   18.8  \n",
       "1  21.0  17.9  13.6   19.9  \n",
       "2  25.6  22.8  18.9   23.7  \n",
       "3  28.2  26.0  24.2   27.7  \n",
       "4  22.8  17.6  14.7   22.4  "
      ],
      "text/html": "<div>\n<style scoped>\n    .dataframe tbody tr th:only-of-type {\n        vertical-align: middle;\n    }\n\n    .dataframe tbody tr th {\n        vertical-align: top;\n    }\n\n    .dataframe thead th {\n        text-align: right;\n    }\n</style>\n<table border=\"1\" class=\"dataframe\">\n  <thead>\n    <tr style=\"text-align: right;\">\n      <th></th>\n      <th>Entidad</th>\n      <th>Ene</th>\n      <th>Feb</th>\n      <th>Mar</th>\n      <th>Abr</th>\n      <th>May</th>\n      <th>Jun</th>\n      <th>Jul</th>\n      <th>Ago</th>\n      <th>Sep</th>\n      <th>Oct</th>\n      <th>Nov</th>\n      <th>Dic</th>\n      <th>Anual</th>\n    </tr>\n  </thead>\n  <tbody>\n    <tr>\n      <th>0</th>\n      <td>Aguascalientes</td>\n      <td>14.0</td>\n      <td>16.9</td>\n      <td>19.0</td>\n      <td>19.6</td>\n      <td>22.3</td>\n      <td>23.2</td>\n      <td>21.4</td>\n      <td>20.9</td>\n      <td>19.5</td>\n      <td>18.6</td>\n      <td>16.7</td>\n      <td>13.8</td>\n      <td>18.8</td>\n    </tr>\n    <tr>\n      <th>1</th>\n      <td>Baja California</td>\n      <td>14.3</td>\n      <td>12.2</td>\n      <td>15.6</td>\n      <td>20.4</td>\n      <td>20.4</td>\n      <td>24.1</td>\n      <td>25.6</td>\n      <td>28.1</td>\n      <td>25.3</td>\n      <td>21.0</td>\n      <td>17.9</td>\n      <td>13.6</td>\n      <td>19.9</td>\n    </tr>\n    <tr>\n      <th>2</th>\n      <td>Baja California Sur</td>\n      <td>18.7</td>\n      <td>18.4</td>\n      <td>20.3</td>\n      <td>22.5</td>\n      <td>22.6</td>\n      <td>26.5</td>\n      <td>29.6</td>\n      <td>30.0</td>\n      <td>28.4</td>\n      <td>25.6</td>\n      <td>22.8</td>\n      <td>18.9</td>\n      <td>23.7</td>\n    </tr>\n    <tr>\n      <th>3</th>\n      <td>Campeche</td>\n      <td>23.3</td>\n      <td>26.6</td>\n      <td>26.9</td>\n      <td>28.7</td>\n      <td>31.1</td>\n      <td>29.9</td>\n      <td>29.0</td>\n      <td>29.3</td>\n      <td>28.7</td>\n      <td>28.2</td>\n      <td>26.0</td>\n      <td>24.2</td>\n      <td>27.7</td>\n    </tr>\n    <tr>\n      <th>4</th>\n      <td>Coahuila</td>\n      <td>13.5</td>\n      <td>17.1</td>\n      <td>18.8</td>\n      <td>22.8</td>\n      <td>26.4</td>\n      <td>28.3</td>\n      <td>28.7</td>\n      <td>30.5</td>\n      <td>27.4</td>\n      <td>22.8</td>\n      <td>17.6</td>\n      <td>14.7</td>\n      <td>22.4</td>\n    </tr>\n  </tbody>\n</table>\n</div>"
     },
     "metadata": {},
     "execution_count": 6
    }
   ],
   "source": [
    "temp_mean_df = pd.read_csv(\"temp_mean_2019.csv\",delimiter=\",\", encoding='utf-8')\n",
    "temp_mean_df.head()"
   ]
  },
  {
   "cell_type": "code",
   "execution_count": 7,
   "metadata": {},
   "outputs": [
    {
     "output_type": "execute_result",
     "data": {
      "text/plain": [
       "               Entidad  Precipitation\n",
       "0       Aguascalientes          453.1\n",
       "1      Baja California          206.1\n",
       "2  Baja California Sur          270.6\n",
       "3             Campeche         1303.2\n",
       "4             Coahuila          261.5"
      ],
      "text/html": "<div>\n<style scoped>\n    .dataframe tbody tr th:only-of-type {\n        vertical-align: middle;\n    }\n\n    .dataframe tbody tr th {\n        vertical-align: top;\n    }\n\n    .dataframe thead th {\n        text-align: right;\n    }\n</style>\n<table border=\"1\" class=\"dataframe\">\n  <thead>\n    <tr style=\"text-align: right;\">\n      <th></th>\n      <th>Entidad</th>\n      <th>Precipitation</th>\n    </tr>\n  </thead>\n  <tbody>\n    <tr>\n      <th>0</th>\n      <td>Aguascalientes</td>\n      <td>453.1</td>\n    </tr>\n    <tr>\n      <th>1</th>\n      <td>Baja California</td>\n      <td>206.1</td>\n    </tr>\n    <tr>\n      <th>2</th>\n      <td>Baja California Sur</td>\n      <td>270.6</td>\n    </tr>\n    <tr>\n      <th>3</th>\n      <td>Campeche</td>\n      <td>1303.2</td>\n    </tr>\n    <tr>\n      <th>4</th>\n      <td>Coahuila</td>\n      <td>261.5</td>\n    </tr>\n  </tbody>\n</table>\n</div>"
     },
     "metadata": {},
     "execution_count": 7
    }
   ],
   "source": [
    "#Let's get the anual one and rename it\n",
    "rain_df2 = rain_df[[\"Entidad\", \"Anual\"]]\n",
    "rain_df2.rename(columns={\"Anual\":\"Precipitation\"}, inplace=True)\n",
    "rain_df2.head()"
   ]
  },
  {
   "cell_type": "code",
   "execution_count": 8,
   "metadata": {},
   "outputs": [
    {
     "output_type": "execute_result",
     "data": {
      "text/plain": [
       "               Entidad  Max_Temp\n",
       "0       Aguascalientes      27.4\n",
       "1      Baja California      26.4\n",
       "2  Baja California Sur      29.9\n",
       "3             Campeche      33.7\n",
       "4             Coahuila      29.5"
      ],
      "text/html": "<div>\n<style scoped>\n    .dataframe tbody tr th:only-of-type {\n        vertical-align: middle;\n    }\n\n    .dataframe tbody tr th {\n        vertical-align: top;\n    }\n\n    .dataframe thead th {\n        text-align: right;\n    }\n</style>\n<table border=\"1\" class=\"dataframe\">\n  <thead>\n    <tr style=\"text-align: right;\">\n      <th></th>\n      <th>Entidad</th>\n      <th>Max_Temp</th>\n    </tr>\n  </thead>\n  <tbody>\n    <tr>\n      <th>0</th>\n      <td>Aguascalientes</td>\n      <td>27.4</td>\n    </tr>\n    <tr>\n      <th>1</th>\n      <td>Baja California</td>\n      <td>26.4</td>\n    </tr>\n    <tr>\n      <th>2</th>\n      <td>Baja California Sur</td>\n      <td>29.9</td>\n    </tr>\n    <tr>\n      <th>3</th>\n      <td>Campeche</td>\n      <td>33.7</td>\n    </tr>\n    <tr>\n      <th>4</th>\n      <td>Coahuila</td>\n      <td>29.5</td>\n    </tr>\n  </tbody>\n</table>\n</div>"
     },
     "metadata": {},
     "execution_count": 8
    }
   ],
   "source": [
    "#Lets get the anual one and rename it\n",
    "max_temp_df = temp_max_df[[\"Entidad\", \"Anual\"]]\n",
    "max_temp_df.rename(columns={\"Anual\":\"Max_Temp\"}, inplace=True)\n",
    "max_temp_df.head()"
   ]
  },
  {
   "cell_type": "code",
   "execution_count": 9,
   "metadata": {},
   "outputs": [
    {
     "output_type": "execute_result",
     "data": {
      "text/plain": [
       "               Entidad  Min_Temp\n",
       "0       Aguascalientes      10.3\n",
       "1      Baja California      13.3\n",
       "2  Baja California Sur      17.4\n",
       "3             Campeche      21.7\n",
       "4             Coahuila      15.2"
      ],
      "text/html": "<div>\n<style scoped>\n    .dataframe tbody tr th:only-of-type {\n        vertical-align: middle;\n    }\n\n    .dataframe tbody tr th {\n        vertical-align: top;\n    }\n\n    .dataframe thead th {\n        text-align: right;\n    }\n</style>\n<table border=\"1\" class=\"dataframe\">\n  <thead>\n    <tr style=\"text-align: right;\">\n      <th></th>\n      <th>Entidad</th>\n      <th>Min_Temp</th>\n    </tr>\n  </thead>\n  <tbody>\n    <tr>\n      <th>0</th>\n      <td>Aguascalientes</td>\n      <td>10.3</td>\n    </tr>\n    <tr>\n      <th>1</th>\n      <td>Baja California</td>\n      <td>13.3</td>\n    </tr>\n    <tr>\n      <th>2</th>\n      <td>Baja California Sur</td>\n      <td>17.4</td>\n    </tr>\n    <tr>\n      <th>3</th>\n      <td>Campeche</td>\n      <td>21.7</td>\n    </tr>\n    <tr>\n      <th>4</th>\n      <td>Coahuila</td>\n      <td>15.2</td>\n    </tr>\n  </tbody>\n</table>\n</div>"
     },
     "metadata": {},
     "execution_count": 9
    }
   ],
   "source": [
    "#Lets get the anual one and rename it\n",
    "min_temp_df = temp_min_df[[\"Entidad\", \"Anual\"]]\n",
    "min_temp_df.rename(columns={\"Anual\":\"Min_Temp\"}, inplace=True)\n",
    "min_temp_df.head()"
   ]
  },
  {
   "cell_type": "code",
   "execution_count": 10,
   "metadata": {},
   "outputs": [
    {
     "output_type": "execute_result",
     "data": {
      "text/plain": [
       "               Entidad  Avg_Temp\n",
       "0       Aguascalientes      18.8\n",
       "1      Baja California      19.9\n",
       "2  Baja California Sur      23.7\n",
       "3             Campeche      27.7\n",
       "4             Coahuila      22.4"
      ],
      "text/html": "<div>\n<style scoped>\n    .dataframe tbody tr th:only-of-type {\n        vertical-align: middle;\n    }\n\n    .dataframe tbody tr th {\n        vertical-align: top;\n    }\n\n    .dataframe thead th {\n        text-align: right;\n    }\n</style>\n<table border=\"1\" class=\"dataframe\">\n  <thead>\n    <tr style=\"text-align: right;\">\n      <th></th>\n      <th>Entidad</th>\n      <th>Avg_Temp</th>\n    </tr>\n  </thead>\n  <tbody>\n    <tr>\n      <th>0</th>\n      <td>Aguascalientes</td>\n      <td>18.8</td>\n    </tr>\n    <tr>\n      <th>1</th>\n      <td>Baja California</td>\n      <td>19.9</td>\n    </tr>\n    <tr>\n      <th>2</th>\n      <td>Baja California Sur</td>\n      <td>23.7</td>\n    </tr>\n    <tr>\n      <th>3</th>\n      <td>Campeche</td>\n      <td>27.7</td>\n    </tr>\n    <tr>\n      <th>4</th>\n      <td>Coahuila</td>\n      <td>22.4</td>\n    </tr>\n  </tbody>\n</table>\n</div>"
     },
     "metadata": {},
     "execution_count": 10
    }
   ],
   "source": [
    "#Lets get the anual one and rename it\n",
    "avg_temp_df = temp_mean_df[[\"Entidad\", \"Anual\"]]\n",
    "avg_temp_df.rename(columns={\"Anual\":\"Avg_Temp\"}, inplace=True)\n",
    "avg_temp_df.head()"
   ]
  },
  {
   "cell_type": "code",
   "execution_count": 11,
   "metadata": {},
   "outputs": [],
   "source": [
    "#Lets merge it\n",
    "aux = pd.merge(rain_df2, max_temp_df, how=\"outer\", on=\"Entidad\")"
   ]
  },
  {
   "cell_type": "code",
   "execution_count": 12,
   "metadata": {},
   "outputs": [],
   "source": [
    "aux2 = pd.merge(aux, min_temp_df, how = \"outer\", on=\"Entidad\")"
   ]
  },
  {
   "cell_type": "code",
   "execution_count": 13,
   "metadata": {},
   "outputs": [
    {
     "output_type": "execute_result",
     "data": {
      "text/plain": [
       "               Entidad  Precipitation  Max_Temp  Min_Temp  Avg_Temp\n",
       "0       Aguascalientes          453.1      27.4      10.3      18.8\n",
       "1      Baja California          206.1      26.4      13.3      19.9\n",
       "2  Baja California Sur          270.6      29.9      17.4      23.7\n",
       "3             Campeche         1303.2      33.7      21.7      27.7\n",
       "4             Coahuila          261.5      29.5      15.2      22.4"
      ],
      "text/html": "<div>\n<style scoped>\n    .dataframe tbody tr th:only-of-type {\n        vertical-align: middle;\n    }\n\n    .dataframe tbody tr th {\n        vertical-align: top;\n    }\n\n    .dataframe thead th {\n        text-align: right;\n    }\n</style>\n<table border=\"1\" class=\"dataframe\">\n  <thead>\n    <tr style=\"text-align: right;\">\n      <th></th>\n      <th>Entidad</th>\n      <th>Precipitation</th>\n      <th>Max_Temp</th>\n      <th>Min_Temp</th>\n      <th>Avg_Temp</th>\n    </tr>\n  </thead>\n  <tbody>\n    <tr>\n      <th>0</th>\n      <td>Aguascalientes</td>\n      <td>453.1</td>\n      <td>27.4</td>\n      <td>10.3</td>\n      <td>18.8</td>\n    </tr>\n    <tr>\n      <th>1</th>\n      <td>Baja California</td>\n      <td>206.1</td>\n      <td>26.4</td>\n      <td>13.3</td>\n      <td>19.9</td>\n    </tr>\n    <tr>\n      <th>2</th>\n      <td>Baja California Sur</td>\n      <td>270.6</td>\n      <td>29.9</td>\n      <td>17.4</td>\n      <td>23.7</td>\n    </tr>\n    <tr>\n      <th>3</th>\n      <td>Campeche</td>\n      <td>1303.2</td>\n      <td>33.7</td>\n      <td>21.7</td>\n      <td>27.7</td>\n    </tr>\n    <tr>\n      <th>4</th>\n      <td>Coahuila</td>\n      <td>261.5</td>\n      <td>29.5</td>\n      <td>15.2</td>\n      <td>22.4</td>\n    </tr>\n  </tbody>\n</table>\n</div>"
     },
     "metadata": {},
     "execution_count": 13
    }
   ],
   "source": [
    "weather_df = pd.merge(aux2, avg_temp_df, how = \"outer\", on=\"Entidad\")\n",
    "weather_df.head()"
   ]
  },
  {
   "cell_type": "code",
   "execution_count": 15,
   "metadata": {},
   "outputs": [
    {
     "output_type": "execute_result",
     "data": {
      "text/plain": [
       "                  State  Precipitation  Max_Temp  Min_Temp  Avg_Temp\n",
       "0        Aguascalientes          453.1      27.4      10.3      18.8\n",
       "1       Baja California          206.1      26.4      13.3      19.9\n",
       "2   Baja California Sur          270.6      29.9      17.4      23.7\n",
       "3              Campeche         1303.2      33.7      21.7      27.7\n",
       "4              Coahuila          261.5      29.5      15.2      22.4\n",
       "5                Colima         1816.7      33.8      21.0      27.4\n",
       "6               Chiapas         1767.4      31.9      19.3      25.6\n",
       "7             Chihuahua          470.3      27.6      10.3      18.9\n",
       "8      Ciudad de Mexico          565.3      25.4      12.1      18.8\n",
       "9               Durango          428.8      28.2       9.7      18.9\n",
       "10           Guanajuato          553.7      28.3      11.3      19.8\n",
       "11             Guerrero         1102.1      32.4      18.6      25.5\n",
       "12              Hidalgo          438.8      27.4      12.2      19.8\n",
       "13              Jalisco          926.4      30.2      13.4      21.8\n",
       "14     Estado de Mexico          837.6      23.8       7.5      15.6\n",
       "15            Michoacan          829.7      29.8      12.5      21.2\n",
       "16              Morelos         1691.3      30.1      14.8      22.4\n",
       "17              Nayarit         1225.3      33.8      19.2      26.5\n",
       "18           Nuevo Leon          499.2      29.9      15.3      22.6\n",
       "19               Oaxaca         1089.4      31.1      17.2      24.2\n",
       "20               Puebla         1040.8      26.8      11.2      19.0\n",
       "21            Queretaro          411.3      28.6      13.1      20.9\n",
       "22         Quintana Roo         1036.1      33.3      22.9      28.1\n",
       "23      San Luis Potosi          480.8      31.5      17.5      24.5\n",
       "24              Sinaloa          928.2      33.5      18.0      25.8\n",
       "25               Sonora          648.7      30.7      14.1      22.4\n",
       "26              Tabasco         1916.0      32.7      22.4      27.6\n",
       "27           Tamaulipas          579.1      31.2      18.9      25.1\n",
       "28             Tlaxcala          564.2      24.3       7.4      15.8\n",
       "29             Veracruz         1107.6      29.1      17.5      23.3\n",
       "30              Yucatan         1034.2      33.8      20.8      27.3\n",
       "31            Zacatecas          415.3      27.0       9.7      18.3\n",
       "32             Nacional          718.3      29.9      14.9      22.4"
      ],
      "text/html": "<div>\n<style scoped>\n    .dataframe tbody tr th:only-of-type {\n        vertical-align: middle;\n    }\n\n    .dataframe tbody tr th {\n        vertical-align: top;\n    }\n\n    .dataframe thead th {\n        text-align: right;\n    }\n</style>\n<table border=\"1\" class=\"dataframe\">\n  <thead>\n    <tr style=\"text-align: right;\">\n      <th></th>\n      <th>State</th>\n      <th>Precipitation</th>\n      <th>Max_Temp</th>\n      <th>Min_Temp</th>\n      <th>Avg_Temp</th>\n    </tr>\n  </thead>\n  <tbody>\n    <tr>\n      <th>0</th>\n      <td>Aguascalientes</td>\n      <td>453.1</td>\n      <td>27.4</td>\n      <td>10.3</td>\n      <td>18.8</td>\n    </tr>\n    <tr>\n      <th>1</th>\n      <td>Baja California</td>\n      <td>206.1</td>\n      <td>26.4</td>\n      <td>13.3</td>\n      <td>19.9</td>\n    </tr>\n    <tr>\n      <th>2</th>\n      <td>Baja California Sur</td>\n      <td>270.6</td>\n      <td>29.9</td>\n      <td>17.4</td>\n      <td>23.7</td>\n    </tr>\n    <tr>\n      <th>3</th>\n      <td>Campeche</td>\n      <td>1303.2</td>\n      <td>33.7</td>\n      <td>21.7</td>\n      <td>27.7</td>\n    </tr>\n    <tr>\n      <th>4</th>\n      <td>Coahuila</td>\n      <td>261.5</td>\n      <td>29.5</td>\n      <td>15.2</td>\n      <td>22.4</td>\n    </tr>\n    <tr>\n      <th>5</th>\n      <td>Colima</td>\n      <td>1816.7</td>\n      <td>33.8</td>\n      <td>21.0</td>\n      <td>27.4</td>\n    </tr>\n    <tr>\n      <th>6</th>\n      <td>Chiapas</td>\n      <td>1767.4</td>\n      <td>31.9</td>\n      <td>19.3</td>\n      <td>25.6</td>\n    </tr>\n    <tr>\n      <th>7</th>\n      <td>Chihuahua</td>\n      <td>470.3</td>\n      <td>27.6</td>\n      <td>10.3</td>\n      <td>18.9</td>\n    </tr>\n    <tr>\n      <th>8</th>\n      <td>Ciudad de Mexico</td>\n      <td>565.3</td>\n      <td>25.4</td>\n      <td>12.1</td>\n      <td>18.8</td>\n    </tr>\n    <tr>\n      <th>9</th>\n      <td>Durango</td>\n      <td>428.8</td>\n      <td>28.2</td>\n      <td>9.7</td>\n      <td>18.9</td>\n    </tr>\n    <tr>\n      <th>10</th>\n      <td>Guanajuato</td>\n      <td>553.7</td>\n      <td>28.3</td>\n      <td>11.3</td>\n      <td>19.8</td>\n    </tr>\n    <tr>\n      <th>11</th>\n      <td>Guerrero</td>\n      <td>1102.1</td>\n      <td>32.4</td>\n      <td>18.6</td>\n      <td>25.5</td>\n    </tr>\n    <tr>\n      <th>12</th>\n      <td>Hidalgo</td>\n      <td>438.8</td>\n      <td>27.4</td>\n      <td>12.2</td>\n      <td>19.8</td>\n    </tr>\n    <tr>\n      <th>13</th>\n      <td>Jalisco</td>\n      <td>926.4</td>\n      <td>30.2</td>\n      <td>13.4</td>\n      <td>21.8</td>\n    </tr>\n    <tr>\n      <th>14</th>\n      <td>Estado de Mexico</td>\n      <td>837.6</td>\n      <td>23.8</td>\n      <td>7.5</td>\n      <td>15.6</td>\n    </tr>\n    <tr>\n      <th>15</th>\n      <td>Michoacan</td>\n      <td>829.7</td>\n      <td>29.8</td>\n      <td>12.5</td>\n      <td>21.2</td>\n    </tr>\n    <tr>\n      <th>16</th>\n      <td>Morelos</td>\n      <td>1691.3</td>\n      <td>30.1</td>\n      <td>14.8</td>\n      <td>22.4</td>\n    </tr>\n    <tr>\n      <th>17</th>\n      <td>Nayarit</td>\n      <td>1225.3</td>\n      <td>33.8</td>\n      <td>19.2</td>\n      <td>26.5</td>\n    </tr>\n    <tr>\n      <th>18</th>\n      <td>Nuevo Leon</td>\n      <td>499.2</td>\n      <td>29.9</td>\n      <td>15.3</td>\n      <td>22.6</td>\n    </tr>\n    <tr>\n      <th>19</th>\n      <td>Oaxaca</td>\n      <td>1089.4</td>\n      <td>31.1</td>\n      <td>17.2</td>\n      <td>24.2</td>\n    </tr>\n    <tr>\n      <th>20</th>\n      <td>Puebla</td>\n      <td>1040.8</td>\n      <td>26.8</td>\n      <td>11.2</td>\n      <td>19.0</td>\n    </tr>\n    <tr>\n      <th>21</th>\n      <td>Queretaro</td>\n      <td>411.3</td>\n      <td>28.6</td>\n      <td>13.1</td>\n      <td>20.9</td>\n    </tr>\n    <tr>\n      <th>22</th>\n      <td>Quintana Roo</td>\n      <td>1036.1</td>\n      <td>33.3</td>\n      <td>22.9</td>\n      <td>28.1</td>\n    </tr>\n    <tr>\n      <th>23</th>\n      <td>San Luis Potosi</td>\n      <td>480.8</td>\n      <td>31.5</td>\n      <td>17.5</td>\n      <td>24.5</td>\n    </tr>\n    <tr>\n      <th>24</th>\n      <td>Sinaloa</td>\n      <td>928.2</td>\n      <td>33.5</td>\n      <td>18.0</td>\n      <td>25.8</td>\n    </tr>\n    <tr>\n      <th>25</th>\n      <td>Sonora</td>\n      <td>648.7</td>\n      <td>30.7</td>\n      <td>14.1</td>\n      <td>22.4</td>\n    </tr>\n    <tr>\n      <th>26</th>\n      <td>Tabasco</td>\n      <td>1916.0</td>\n      <td>32.7</td>\n      <td>22.4</td>\n      <td>27.6</td>\n    </tr>\n    <tr>\n      <th>27</th>\n      <td>Tamaulipas</td>\n      <td>579.1</td>\n      <td>31.2</td>\n      <td>18.9</td>\n      <td>25.1</td>\n    </tr>\n    <tr>\n      <th>28</th>\n      <td>Tlaxcala</td>\n      <td>564.2</td>\n      <td>24.3</td>\n      <td>7.4</td>\n      <td>15.8</td>\n    </tr>\n    <tr>\n      <th>29</th>\n      <td>Veracruz</td>\n      <td>1107.6</td>\n      <td>29.1</td>\n      <td>17.5</td>\n      <td>23.3</td>\n    </tr>\n    <tr>\n      <th>30</th>\n      <td>Yucatan</td>\n      <td>1034.2</td>\n      <td>33.8</td>\n      <td>20.8</td>\n      <td>27.3</td>\n    </tr>\n    <tr>\n      <th>31</th>\n      <td>Zacatecas</td>\n      <td>415.3</td>\n      <td>27.0</td>\n      <td>9.7</td>\n      <td>18.3</td>\n    </tr>\n    <tr>\n      <th>32</th>\n      <td>Nacional</td>\n      <td>718.3</td>\n      <td>29.9</td>\n      <td>14.9</td>\n      <td>22.4</td>\n    </tr>\n  </tbody>\n</table>\n</div>"
     },
     "metadata": {},
     "execution_count": 15
    }
   ],
   "source": [
    "weather_df.rename(columns={\"Entidad\":\"state\"})"
   ]
  },
  {
   "cell_type": "code",
   "execution_count": 17,
   "metadata": {},
   "outputs": [],
   "source": [
    "#Lets save it\n",
    "weather_df.to_csv('../data/weather.csv', index = False)"
   ]
  },
  {
   "cell_type": "code",
   "execution_count": null,
   "metadata": {},
   "outputs": [],
   "source": []
  }
 ],
 "metadata": {
  "kernelspec": {
   "display_name": "Python 3",
   "language": "python",
   "name": "python3"
  },
  "language_info": {
   "codemirror_mode": {
    "name": "ipython",
    "version": 3
   },
   "file_extension": ".py",
   "mimetype": "text/x-python",
   "name": "python",
   "nbconvert_exporter": "python",
   "pygments_lexer": "ipython3",
   "version": "3.8.1-final"
  }
 },
 "nbformat": 4,
 "nbformat_minor": 2
}