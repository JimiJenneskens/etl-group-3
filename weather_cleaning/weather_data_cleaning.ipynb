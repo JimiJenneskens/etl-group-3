{
 "cells": [
  {
   "cell_type": "markdown",
   "metadata": {},
   "source": [
    "# Merging weather variables.\n",
    "\n",
    "In this notebook four csv is joined as one single table conatinen four weather  at a state level in 2019, which are:\n",
    "\n",
    "1. Precipitation in mm annualy\n",
    "\n",
    "2. Maximum temperature in °C annualy\n",
    "\n",
    "3. Minimum temperature in °C annualy\n",
    "\n",
    "4. Mean temperature in °C annualy"
   ]
  },
  {
   "cell_type": "code",
   "execution_count": 129,
   "metadata": {},
   "outputs": [],
   "source": [
    "import pandas as pd"
   ]
  },
  {
   "cell_type": "code",
   "execution_count": 130,
   "metadata": {},
   "outputs": [
    {
     "output_type": "stream",
     "name": "stdout",
     "text": [
      "rain_2019.csv\n"
     ]
    }
   ],
   "source": [
    "path = \"rain_2019.csv\"\n",
    "print(path)"
   ]
  },
  {
   "cell_type": "code",
   "execution_count": 131,
   "metadata": {},
   "outputs": [
    {
     "output_type": "execute_result",
     "data": {
      "text/plain": [
       "               Entidad   Ene   Feb   Mar   Abr   May    Jun    Jul    Ago  \\\n",
       "0       Aguascalientes  11.3   0.0   0.4   0.0   2.5   45.7  101.3  123.4   \n",
       "1      Baja California  17.8  49.5  13.4   1.2   5.6    0.0    5.1    3.0   \n",
       "2  Baja California Sur  11.1   3.1   6.1   0.0   0.6    0.0    6.9   31.9   \n",
       "3             Campeche  26.7  14.2  34.6  32.7  72.6  250.9  156.8  124.7   \n",
       "4             Coahuila   6.9   0.6  11.3  12.3  30.8   49.9   22.3   21.5   \n",
       "\n",
       "     Sep    Oct   Nov   Dic   Anual  \n",
       "0   78.1   40.5  33.7  16.2   453.1  \n",
       "1   14.0    1.9  53.1  41.6   206.1  \n",
       "2   60.0   45.1  91.1  14.7   270.6  \n",
       "3  182.8  235.3  90.5  81.4  1303.2  \n",
       "4   60.6   19.6  22.1   3.6   261.5  "
      ],
      "text/html": "<div>\n<style scoped>\n    .dataframe tbody tr th:only-of-type {\n        vertical-align: middle;\n    }\n\n    .dataframe tbody tr th {\n        vertical-align: top;\n    }\n\n    .dataframe thead th {\n        text-align: right;\n    }\n</style>\n<table border=\"1\" class=\"dataframe\">\n  <thead>\n    <tr style=\"text-align: right;\">\n      <th></th>\n      <th>Entidad</th>\n      <th>Ene</th>\n      <th>Feb</th>\n      <th>Mar</th>\n      <th>Abr</th>\n      <th>May</th>\n      <th>Jun</th>\n      <th>Jul</th>\n      <th>Ago</th>\n      <th>Sep</th>\n      <th>Oct</th>\n      <th>Nov</th>\n      <th>Dic</th>\n      <th>Anual</th>\n    </tr>\n  </thead>\n  <tbody>\n    <tr>\n      <th>0</th>\n      <td>Aguascalientes</td>\n      <td>11.3</td>\n      <td>0.0</td>\n      <td>0.4</td>\n      <td>0.0</td>\n      <td>2.5</td>\n      <td>45.7</td>\n      <td>101.3</td>\n      <td>123.4</td>\n      <td>78.1</td>\n      <td>40.5</td>\n      <td>33.7</td>\n      <td>16.2</td>\n      <td>453.1</td>\n    </tr>\n    <tr>\n      <th>1</th>\n      <td>Baja California</td>\n      <td>17.8</td>\n      <td>49.5</td>\n      <td>13.4</td>\n      <td>1.2</td>\n      <td>5.6</td>\n      <td>0.0</td>\n      <td>5.1</td>\n      <td>3.0</td>\n      <td>14.0</td>\n      <td>1.9</td>\n      <td>53.1</td>\n      <td>41.6</td>\n      <td>206.1</td>\n    </tr>\n    <tr>\n      <th>2</th>\n      <td>Baja California Sur</td>\n      <td>11.1</td>\n      <td>3.1</td>\n      <td>6.1</td>\n      <td>0.0</td>\n      <td>0.6</td>\n      <td>0.0</td>\n      <td>6.9</td>\n      <td>31.9</td>\n      <td>60.0</td>\n      <td>45.1</td>\n      <td>91.1</td>\n      <td>14.7</td>\n      <td>270.6</td>\n    </tr>\n    <tr>\n      <th>3</th>\n      <td>Campeche</td>\n      <td>26.7</td>\n      <td>14.2</td>\n      <td>34.6</td>\n      <td>32.7</td>\n      <td>72.6</td>\n      <td>250.9</td>\n      <td>156.8</td>\n      <td>124.7</td>\n      <td>182.8</td>\n      <td>235.3</td>\n      <td>90.5</td>\n      <td>81.4</td>\n      <td>1303.2</td>\n    </tr>\n    <tr>\n      <th>4</th>\n      <td>Coahuila</td>\n      <td>6.9</td>\n      <td>0.6</td>\n      <td>11.3</td>\n      <td>12.3</td>\n      <td>30.8</td>\n      <td>49.9</td>\n      <td>22.3</td>\n      <td>21.5</td>\n      <td>60.6</td>\n      <td>19.6</td>\n      <td>22.1</td>\n      <td>3.6</td>\n      <td>261.5</td>\n    </tr>\n  </tbody>\n</table>\n</div>"
     },
     "metadata": {},
     "execution_count": 131
    }
   ],
   "source": [
    "rain_df = pd.read_csv(\"rain_2019.csv\",delimiter=\",\", encoding='utf-8')\n",
    "rain_df.head()"
   ]
  },
  {
   "cell_type": "code",
   "execution_count": 132,
   "metadata": {},
   "outputs": [
    {
     "output_type": "execute_result",
     "data": {
      "text/plain": [
       "               Entidad   Ene   Feb   Mar   Abr   May   Jun   Jul   Ago   Sep  \\\n",
       "0       Aguascalientes  23.1  26.7  29.3  29.8  32.1  30.8  28.6  28.4  26.8   \n",
       "1      Baja California  20.4  17.9  22.2  27.6  26.4  30.6  32.7  35.3  31.8   \n",
       "2  Baja California Sur  25.2  24.7  27.6  29.7  29.2  33.1  35.4  35.4  33.6   \n",
       "3             Campeche  29.4  33.2  33.5  35.6  37.7  35.8  35.0  35.3  34.3   \n",
       "4             Coahuila  20.6  24.7  25.5  31.2  33.0  35.0  35.6  37.6  33.6   \n",
       "\n",
       "    Oct   Nov   Dic  Anual  \n",
       "0  26.0  24.4  22.6   27.4  \n",
       "1  28.5  24.3  19.0   26.4  \n",
       "2  31.9  28.2  25.2   29.9  \n",
       "3  33.2  31.1  29.9   33.7  \n",
       "4  30.1  24.7  22.9   29.5  "
      ],
      "text/html": "<div>\n<style scoped>\n    .dataframe tbody tr th:only-of-type {\n        vertical-align: middle;\n    }\n\n    .dataframe tbody tr th {\n        vertical-align: top;\n    }\n\n    .dataframe thead th {\n        text-align: right;\n    }\n</style>\n<table border=\"1\" class=\"dataframe\">\n  <thead>\n    <tr style=\"text-align: right;\">\n      <th></th>\n      <th>Entidad</th>\n      <th>Ene</th>\n      <th>Feb</th>\n      <th>Mar</th>\n      <th>Abr</th>\n      <th>May</th>\n      <th>Jun</th>\n      <th>Jul</th>\n      <th>Ago</th>\n      <th>Sep</th>\n      <th>Oct</th>\n      <th>Nov</th>\n      <th>Dic</th>\n      <th>Anual</th>\n    </tr>\n  </thead>\n  <tbody>\n    <tr>\n      <th>0</th>\n      <td>Aguascalientes</td>\n      <td>23.1</td>\n      <td>26.7</td>\n      <td>29.3</td>\n      <td>29.8</td>\n      <td>32.1</td>\n      <td>30.8</td>\n      <td>28.6</td>\n      <td>28.4</td>\n      <td>26.8</td>\n      <td>26.0</td>\n      <td>24.4</td>\n      <td>22.6</td>\n      <td>27.4</td>\n    </tr>\n    <tr>\n      <th>1</th>\n      <td>Baja California</td>\n      <td>20.4</td>\n      <td>17.9</td>\n      <td>22.2</td>\n      <td>27.6</td>\n      <td>26.4</td>\n      <td>30.6</td>\n      <td>32.7</td>\n      <td>35.3</td>\n      <td>31.8</td>\n      <td>28.5</td>\n      <td>24.3</td>\n      <td>19.0</td>\n      <td>26.4</td>\n    </tr>\n    <tr>\n      <th>2</th>\n      <td>Baja California Sur</td>\n      <td>25.2</td>\n      <td>24.7</td>\n      <td>27.6</td>\n      <td>29.7</td>\n      <td>29.2</td>\n      <td>33.1</td>\n      <td>35.4</td>\n      <td>35.4</td>\n      <td>33.6</td>\n      <td>31.9</td>\n      <td>28.2</td>\n      <td>25.2</td>\n      <td>29.9</td>\n    </tr>\n    <tr>\n      <th>3</th>\n      <td>Campeche</td>\n      <td>29.4</td>\n      <td>33.2</td>\n      <td>33.5</td>\n      <td>35.6</td>\n      <td>37.7</td>\n      <td>35.8</td>\n      <td>35.0</td>\n      <td>35.3</td>\n      <td>34.3</td>\n      <td>33.2</td>\n      <td>31.1</td>\n      <td>29.9</td>\n      <td>33.7</td>\n    </tr>\n    <tr>\n      <th>4</th>\n      <td>Coahuila</td>\n      <td>20.6</td>\n      <td>24.7</td>\n      <td>25.5</td>\n      <td>31.2</td>\n      <td>33.0</td>\n      <td>35.0</td>\n      <td>35.6</td>\n      <td>37.6</td>\n      <td>33.6</td>\n      <td>30.1</td>\n      <td>24.7</td>\n      <td>22.9</td>\n      <td>29.5</td>\n    </tr>\n  </tbody>\n</table>\n</div>"
     },
     "metadata": {},
     "execution_count": 132
    }
   ],
   "source": [
    "temp_max_df = pd.read_csv(\"temp_max_2019.csv\",delimiter=\",\", encoding='utf-8')\n",
    "temp_max_df.head()"
   ]
  },
  {
   "cell_type": "code",
   "execution_count": 133,
   "metadata": {},
   "outputs": [
    {
     "output_type": "execute_result",
     "data": {
      "text/plain": [
       "               Entidad   Ene   Feb   Mar   Abr   May   Jun   Jul   Ago   Sep  \\\n",
       "0       Aguascalientes   4.8   7.1   8.7   9.4  12.6  15.7  14.2  13.4  12.2   \n",
       "1      Baja California   8.0   6.5   9.0  13.2  14.3  17.6  18.5  20.9  18.8   \n",
       "2  Baja California Sur  12.1  12.1  13.0  15.3  15.9  19.9  23.9  24.6  23.2   \n",
       "3             Campeche  17.2  20.0  20.2  21.8  24.5  24.0  23.0  23.3  23.2   \n",
       "4             Coahuila   6.4   9.6  12.1  14.5  19.8  21.5  21.7  23.4  21.2   \n",
       "\n",
       "    Oct   Nov   Dic  Anual  \n",
       "0  11.3   8.9   5.0   10.3  \n",
       "1  13.6  11.4   8.2   13.3  \n",
       "2  19.4  17.3  12.6   17.4  \n",
       "3  23.2  20.9  18.5   21.7  \n",
       "4  15.5  10.5   6.4   15.2  "
      ],
      "text/html": "<div>\n<style scoped>\n    .dataframe tbody tr th:only-of-type {\n        vertical-align: middle;\n    }\n\n    .dataframe tbody tr th {\n        vertical-align: top;\n    }\n\n    .dataframe thead th {\n        text-align: right;\n    }\n</style>\n<table border=\"1\" class=\"dataframe\">\n  <thead>\n    <tr style=\"text-align: right;\">\n      <th></th>\n      <th>Entidad</th>\n      <th>Ene</th>\n      <th>Feb</th>\n      <th>Mar</th>\n      <th>Abr</th>\n      <th>May</th>\n      <th>Jun</th>\n      <th>Jul</th>\n      <th>Ago</th>\n      <th>Sep</th>\n      <th>Oct</th>\n      <th>Nov</th>\n      <th>Dic</th>\n      <th>Anual</th>\n    </tr>\n  </thead>\n  <tbody>\n    <tr>\n      <th>0</th>\n      <td>Aguascalientes</td>\n      <td>4.8</td>\n      <td>7.1</td>\n      <td>8.7</td>\n      <td>9.4</td>\n      <td>12.6</td>\n      <td>15.7</td>\n      <td>14.2</td>\n      <td>13.4</td>\n      <td>12.2</td>\n      <td>11.3</td>\n      <td>8.9</td>\n      <td>5.0</td>\n      <td>10.3</td>\n    </tr>\n    <tr>\n      <th>1</th>\n      <td>Baja California</td>\n      <td>8.0</td>\n      <td>6.5</td>\n      <td>9.0</td>\n      <td>13.2</td>\n      <td>14.3</td>\n      <td>17.6</td>\n      <td>18.5</td>\n      <td>20.9</td>\n      <td>18.8</td>\n      <td>13.6</td>\n      <td>11.4</td>\n      <td>8.2</td>\n      <td>13.3</td>\n    </tr>\n    <tr>\n      <th>2</th>\n      <td>Baja California Sur</td>\n      <td>12.1</td>\n      <td>12.1</td>\n      <td>13.0</td>\n      <td>15.3</td>\n      <td>15.9</td>\n      <td>19.9</td>\n      <td>23.9</td>\n      <td>24.6</td>\n      <td>23.2</td>\n      <td>19.4</td>\n      <td>17.3</td>\n      <td>12.6</td>\n      <td>17.4</td>\n    </tr>\n    <tr>\n      <th>3</th>\n      <td>Campeche</td>\n      <td>17.2</td>\n      <td>20.0</td>\n      <td>20.2</td>\n      <td>21.8</td>\n      <td>24.5</td>\n      <td>24.0</td>\n      <td>23.0</td>\n      <td>23.3</td>\n      <td>23.2</td>\n      <td>23.2</td>\n      <td>20.9</td>\n      <td>18.5</td>\n      <td>21.7</td>\n    </tr>\n    <tr>\n      <th>4</th>\n      <td>Coahuila</td>\n      <td>6.4</td>\n      <td>9.6</td>\n      <td>12.1</td>\n      <td>14.5</td>\n      <td>19.8</td>\n      <td>21.5</td>\n      <td>21.7</td>\n      <td>23.4</td>\n      <td>21.2</td>\n      <td>15.5</td>\n      <td>10.5</td>\n      <td>6.4</td>\n      <td>15.2</td>\n    </tr>\n  </tbody>\n</table>\n</div>"
     },
     "metadata": {},
     "execution_count": 133
    }
   ],
   "source": [
    "temp_min_df = pd.read_csv(\"temp_min_2019.csv\",delimiter=\",\", encoding='utf-8')\n",
    "temp_min_df.head()"
   ]
  },
  {
   "cell_type": "code",
   "execution_count": 134,
   "metadata": {},
   "outputs": [
    {
     "output_type": "execute_result",
     "data": {
      "text/plain": [
       "               Entidad   Ene   Feb   Mar   Abr   May   Jun   Jul   Ago   Sep  \\\n",
       "0       Aguascalientes  14.0  16.9  19.0  19.6  22.3  23.2  21.4  20.9  19.5   \n",
       "1      Baja California  14.3  12.2  15.6  20.4  20.4  24.1  25.6  28.1  25.3   \n",
       "2  Baja California Sur  18.7  18.4  20.3  22.5  22.6  26.5  29.6  30.0  28.4   \n",
       "3             Campeche  23.3  26.6  26.9  28.7  31.1  29.9  29.0  29.3  28.7   \n",
       "4             Coahuila  13.5  17.1  18.8  22.8  26.4  28.3  28.7  30.5  27.4   \n",
       "\n",
       "    Oct   Nov   Dic  Anual  \n",
       "0  18.6  16.7  13.8   18.8  \n",
       "1  21.0  17.9  13.6   19.9  \n",
       "2  25.6  22.8  18.9   23.7  \n",
       "3  28.2  26.0  24.2   27.7  \n",
       "4  22.8  17.6  14.7   22.4  "
      ],
      "text/html": "<div>\n<style scoped>\n    .dataframe tbody tr th:only-of-type {\n        vertical-align: middle;\n    }\n\n    .dataframe tbody tr th {\n        vertical-align: top;\n    }\n\n    .dataframe thead th {\n        text-align: right;\n    }\n</style>\n<table border=\"1\" class=\"dataframe\">\n  <thead>\n    <tr style=\"text-align: right;\">\n      <th></th>\n      <th>Entidad</th>\n      <th>Ene</th>\n      <th>Feb</th>\n      <th>Mar</th>\n      <th>Abr</th>\n      <th>May</th>\n      <th>Jun</th>\n      <th>Jul</th>\n      <th>Ago</th>\n      <th>Sep</th>\n      <th>Oct</th>\n      <th>Nov</th>\n      <th>Dic</th>\n      <th>Anual</th>\n    </tr>\n  </thead>\n  <tbody>\n    <tr>\n      <th>0</th>\n      <td>Aguascalientes</td>\n      <td>14.0</td>\n      <td>16.9</td>\n      <td>19.0</td>\n      <td>19.6</td>\n      <td>22.3</td>\n      <td>23.2</td>\n      <td>21.4</td>\n      <td>20.9</td>\n      <td>19.5</td>\n      <td>18.6</td>\n      <td>16.7</td>\n      <td>13.8</td>\n      <td>18.8</td>\n    </tr>\n    <tr>\n      <th>1</th>\n      <td>Baja California</td>\n      <td>14.3</td>\n      <td>12.2</td>\n      <td>15.6</td>\n      <td>20.4</td>\n      <td>20.4</td>\n      <td>24.1</td>\n      <td>25.6</td>\n      <td>28.1</td>\n      <td>25.3</td>\n      <td>21.0</td>\n      <td>17.9</td>\n      <td>13.6</td>\n      <td>19.9</td>\n    </tr>\n    <tr>\n      <th>2</th>\n      <td>Baja California Sur</td>\n      <td>18.7</td>\n      <td>18.4</td>\n      <td>20.3</td>\n      <td>22.5</td>\n      <td>22.6</td>\n      <td>26.5</td>\n      <td>29.6</td>\n      <td>30.0</td>\n      <td>28.4</td>\n      <td>25.6</td>\n      <td>22.8</td>\n      <td>18.9</td>\n      <td>23.7</td>\n    </tr>\n    <tr>\n      <th>3</th>\n      <td>Campeche</td>\n      <td>23.3</td>\n      <td>26.6</td>\n      <td>26.9</td>\n      <td>28.7</td>\n      <td>31.1</td>\n      <td>29.9</td>\n      <td>29.0</td>\n      <td>29.3</td>\n      <td>28.7</td>\n      <td>28.2</td>\n      <td>26.0</td>\n      <td>24.2</td>\n      <td>27.7</td>\n    </tr>\n    <tr>\n      <th>4</th>\n      <td>Coahuila</td>\n      <td>13.5</td>\n      <td>17.1</td>\n      <td>18.8</td>\n      <td>22.8</td>\n      <td>26.4</td>\n      <td>28.3</td>\n      <td>28.7</td>\n      <td>30.5</td>\n      <td>27.4</td>\n      <td>22.8</td>\n      <td>17.6</td>\n      <td>14.7</td>\n      <td>22.4</td>\n    </tr>\n  </tbody>\n</table>\n</div>"
     },
     "metadata": {},
     "execution_count": 134
    }
   ],
   "source": [
    "temp_mean_df = pd.read_csv(\"temp_mean_2019.csv\",delimiter=\",\", encoding='utf-8')\n",
    "temp_mean_df.head()"
   ]
  },
  {
   "cell_type": "code",
   "execution_count": 135,
   "metadata": {},
   "outputs": [
    {
     "output_type": "execute_result",
     "data": {
      "text/plain": [
       "               Entidad  Precipitation\n",
       "0       Aguascalientes          453.1\n",
       "1      Baja California          206.1\n",
       "2  Baja California Sur          270.6\n",
       "3             Campeche         1303.2\n",
       "4             Coahuila          261.5"
      ],
      "text/html": "<div>\n<style scoped>\n    .dataframe tbody tr th:only-of-type {\n        vertical-align: middle;\n    }\n\n    .dataframe tbody tr th {\n        vertical-align: top;\n    }\n\n    .dataframe thead th {\n        text-align: right;\n    }\n</style>\n<table border=\"1\" class=\"dataframe\">\n  <thead>\n    <tr style=\"text-align: right;\">\n      <th></th>\n      <th>Entidad</th>\n      <th>Precipitation</th>\n    </tr>\n  </thead>\n  <tbody>\n    <tr>\n      <th>0</th>\n      <td>Aguascalientes</td>\n      <td>453.1</td>\n    </tr>\n    <tr>\n      <th>1</th>\n      <td>Baja California</td>\n      <td>206.1</td>\n    </tr>\n    <tr>\n      <th>2</th>\n      <td>Baja California Sur</td>\n      <td>270.6</td>\n    </tr>\n    <tr>\n      <th>3</th>\n      <td>Campeche</td>\n      <td>1303.2</td>\n    </tr>\n    <tr>\n      <th>4</th>\n      <td>Coahuila</td>\n      <td>261.5</td>\n    </tr>\n  </tbody>\n</table>\n</div>"
     },
     "metadata": {},
     "execution_count": 135
    }
   ],
   "source": [
    "#Let's get the anual one and rename it\n",
    "rain_df2 = rain_df[[\"Entidad\", \"Anual\"]]\n",
    "rain_df2.rename(columns={\"Anual\":\"Precipitation\"}, inplace=True)\n",
    "rain_df2.head()"
   ]
  },
  {
   "cell_type": "code",
   "execution_count": 136,
   "metadata": {},
   "outputs": [
    {
     "output_type": "execute_result",
     "data": {
      "text/plain": [
       "               Entidad  Max_Temp\n",
       "0       Aguascalientes      27.4\n",
       "1      Baja California      26.4\n",
       "2  Baja California Sur      29.9\n",
       "3             Campeche      33.7\n",
       "4             Coahuila      29.5"
      ],
      "text/html": "<div>\n<style scoped>\n    .dataframe tbody tr th:only-of-type {\n        vertical-align: middle;\n    }\n\n    .dataframe tbody tr th {\n        vertical-align: top;\n    }\n\n    .dataframe thead th {\n        text-align: right;\n    }\n</style>\n<table border=\"1\" class=\"dataframe\">\n  <thead>\n    <tr style=\"text-align: right;\">\n      <th></th>\n      <th>Entidad</th>\n      <th>Max_Temp</th>\n    </tr>\n  </thead>\n  <tbody>\n    <tr>\n      <th>0</th>\n      <td>Aguascalientes</td>\n      <td>27.4</td>\n    </tr>\n    <tr>\n      <th>1</th>\n      <td>Baja California</td>\n      <td>26.4</td>\n    </tr>\n    <tr>\n      <th>2</th>\n      <td>Baja California Sur</td>\n      <td>29.9</td>\n    </tr>\n    <tr>\n      <th>3</th>\n      <td>Campeche</td>\n      <td>33.7</td>\n    </tr>\n    <tr>\n      <th>4</th>\n      <td>Coahuila</td>\n      <td>29.5</td>\n    </tr>\n  </tbody>\n</table>\n</div>"
     },
     "metadata": {},
     "execution_count": 136
    }
   ],
   "source": [
    "#Lets get the anual one and rename it\n",
    "max_temp_df = temp_max_df[[\"Entidad\", \"Anual\"]]\n",
    "max_temp_df.rename(columns={\"Anual\":\"Max_Temp\"}, inplace=True)\n",
    "max_temp_df.head()"
   ]
  },
  {
   "cell_type": "code",
   "execution_count": 137,
   "metadata": {},
   "outputs": [
    {
     "output_type": "execute_result",
     "data": {
      "text/plain": [
       "               Entidad  Min_Temp\n",
       "0       Aguascalientes      10.3\n",
       "1      Baja California      13.3\n",
       "2  Baja California Sur      17.4\n",
       "3             Campeche      21.7\n",
       "4             Coahuila      15.2"
      ],
      "text/html": "<div>\n<style scoped>\n    .dataframe tbody tr th:only-of-type {\n        vertical-align: middle;\n    }\n\n    .dataframe tbody tr th {\n        vertical-align: top;\n    }\n\n    .dataframe thead th {\n        text-align: right;\n    }\n</style>\n<table border=\"1\" class=\"dataframe\">\n  <thead>\n    <tr style=\"text-align: right;\">\n      <th></th>\n      <th>Entidad</th>\n      <th>Min_Temp</th>\n    </tr>\n  </thead>\n  <tbody>\n    <tr>\n      <th>0</th>\n      <td>Aguascalientes</td>\n      <td>10.3</td>\n    </tr>\n    <tr>\n      <th>1</th>\n      <td>Baja California</td>\n      <td>13.3</td>\n    </tr>\n    <tr>\n      <th>2</th>\n      <td>Baja California Sur</td>\n      <td>17.4</td>\n    </tr>\n    <tr>\n      <th>3</th>\n      <td>Campeche</td>\n      <td>21.7</td>\n    </tr>\n    <tr>\n      <th>4</th>\n      <td>Coahuila</td>\n      <td>15.2</td>\n    </tr>\n  </tbody>\n</table>\n</div>"
     },
     "metadata": {},
     "execution_count": 137
    }
   ],
   "source": [
    "#Lets get the anual one and rename it\n",
    "min_temp_df = temp_min_df[[\"Entidad\", \"Anual\"]]\n",
    "min_temp_df.rename(columns={\"Anual\":\"Min_Temp\"}, inplace=True)\n",
    "min_temp_df.head()"
   ]
  },
  {
   "cell_type": "code",
   "execution_count": 138,
   "metadata": {},
   "outputs": [
    {
     "output_type": "execute_result",
     "data": {
      "text/plain": [
       "               Entidad  Avg_Temp\n",
       "0       Aguascalientes      18.8\n",
       "1      Baja California      19.9\n",
       "2  Baja California Sur      23.7\n",
       "3             Campeche      27.7\n",
       "4             Coahuila      22.4"
      ],
      "text/html": "<div>\n<style scoped>\n    .dataframe tbody tr th:only-of-type {\n        vertical-align: middle;\n    }\n\n    .dataframe tbody tr th {\n        vertical-align: top;\n    }\n\n    .dataframe thead th {\n        text-align: right;\n    }\n</style>\n<table border=\"1\" class=\"dataframe\">\n  <thead>\n    <tr style=\"text-align: right;\">\n      <th></th>\n      <th>Entidad</th>\n      <th>Avg_Temp</th>\n    </tr>\n  </thead>\n  <tbody>\n    <tr>\n      <th>0</th>\n      <td>Aguascalientes</td>\n      <td>18.8</td>\n    </tr>\n    <tr>\n      <th>1</th>\n      <td>Baja California</td>\n      <td>19.9</td>\n    </tr>\n    <tr>\n      <th>2</th>\n      <td>Baja California Sur</td>\n      <td>23.7</td>\n    </tr>\n    <tr>\n      <th>3</th>\n      <td>Campeche</td>\n      <td>27.7</td>\n    </tr>\n    <tr>\n      <th>4</th>\n      <td>Coahuila</td>\n      <td>22.4</td>\n    </tr>\n  </tbody>\n</table>\n</div>"
     },
     "metadata": {},
     "execution_count": 138
    }
   ],
   "source": [
    "#Lets get the anual one and rename it\n",
    "avg_temp_df = temp_mean_df[[\"Entidad\", \"Anual\"]]\n",
    "avg_temp_df.rename(columns={\"Anual\":\"Avg_Temp\"}, inplace=True)\n",
    "avg_temp_df.head()"
   ]
  },
  {
   "cell_type": "code",
   "execution_count": 139,
   "metadata": {},
   "outputs": [],
   "source": [
    "#Lets merge it\n",
    "aux = pd.merge(rain_df2, max_temp_df, how=\"outer\", on=\"Entidad\")"
   ]
  },
  {
   "cell_type": "code",
   "execution_count": 140,
   "metadata": {},
   "outputs": [],
   "source": [
    "aux2 = pd.merge(aux, min_temp_df, how = \"outer\", on=\"Entidad\")"
   ]
  },
  {
   "cell_type": "code",
   "execution_count": 141,
   "metadata": {},
   "outputs": [
    {
     "output_type": "execute_result",
     "data": {
      "text/plain": [
       "               Entidad  Precipitation  Max_Temp  Min_Temp  Avg_Temp\n",
       "0       Aguascalientes          453.1      27.4      10.3      18.8\n",
       "1      Baja California          206.1      26.4      13.3      19.9\n",
       "2  Baja California Sur          270.6      29.9      17.4      23.7\n",
       "3             Campeche         1303.2      33.7      21.7      27.7\n",
       "4             Coahuila          261.5      29.5      15.2      22.4"
      ],
      "text/html": "<div>\n<style scoped>\n    .dataframe tbody tr th:only-of-type {\n        vertical-align: middle;\n    }\n\n    .dataframe tbody tr th {\n        vertical-align: top;\n    }\n\n    .dataframe thead th {\n        text-align: right;\n    }\n</style>\n<table border=\"1\" class=\"dataframe\">\n  <thead>\n    <tr style=\"text-align: right;\">\n      <th></th>\n      <th>Entidad</th>\n      <th>Precipitation</th>\n      <th>Max_Temp</th>\n      <th>Min_Temp</th>\n      <th>Avg_Temp</th>\n    </tr>\n  </thead>\n  <tbody>\n    <tr>\n      <th>0</th>\n      <td>Aguascalientes</td>\n      <td>453.1</td>\n      <td>27.4</td>\n      <td>10.3</td>\n      <td>18.8</td>\n    </tr>\n    <tr>\n      <th>1</th>\n      <td>Baja California</td>\n      <td>206.1</td>\n      <td>26.4</td>\n      <td>13.3</td>\n      <td>19.9</td>\n    </tr>\n    <tr>\n      <th>2</th>\n      <td>Baja California Sur</td>\n      <td>270.6</td>\n      <td>29.9</td>\n      <td>17.4</td>\n      <td>23.7</td>\n    </tr>\n    <tr>\n      <th>3</th>\n      <td>Campeche</td>\n      <td>1303.2</td>\n      <td>33.7</td>\n      <td>21.7</td>\n      <td>27.7</td>\n    </tr>\n    <tr>\n      <th>4</th>\n      <td>Coahuila</td>\n      <td>261.5</td>\n      <td>29.5</td>\n      <td>15.2</td>\n      <td>22.4</td>\n    </tr>\n  </tbody>\n</table>\n</div>"
     },
     "metadata": {},
     "execution_count": 141
    }
   ],
   "source": [
    "weather_df = pd.merge(aux2, avg_temp_df, how = \"outer\", on=\"Entidad\")\n",
    "weather_df.head()"
   ]
  },
  {
   "cell_type": "code",
   "execution_count": 142,
   "metadata": {},
   "outputs": [],
   "source": [
    "weather_df.rename(columns={\"Entidad\":\"state\"}, inplace=True)"
   ]
  },
  {
   "cell_type": "code",
   "execution_count": 143,
   "metadata": {},
   "outputs": [],
   "source": [
    "#Lets save it\n",
    "weather_df.to_csv('../data/weather.csv', index = False)"
   ]
  },
  {
   "cell_type": "code",
   "execution_count": 144,
   "metadata": {},
   "outputs": [
    {
     "output_type": "execute_result",
     "data": {
      "text/plain": [
       "          LON        LAT  EDO CLAVE_SIH    ENE  Unnamed: 5  Unnamed: 6  \\\n",
       "0 -102.309722  21.895000  AGS     AGSAG   6.61         NaN         NaN   \n",
       "1 -102.466944  22.188611  AGS     ANVAG  10.60         NaN         NaN   \n",
       "2 -102.184167  21.738611  AGS     BRTAG  10.50         NaN         NaN   \n",
       "3 -102.712222  21.849167  AGS  CALVILLO  18.17         NaN         NaN   \n",
       "4 -102.676944  21.997500  AGS     CDRAG  16.70         NaN         NaN   \n",
       "\n",
       "   Unnamed: 7  Unnamed: 8  Unnamed: 9  \n",
       "0         NaN         NaN         NaN  \n",
       "1         NaN         NaN         NaN  \n",
       "2         NaN         NaN         NaN  \n",
       "3         NaN         NaN         NaN  \n",
       "4         NaN         NaN         NaN  "
      ],
      "text/html": "<div>\n<style scoped>\n    .dataframe tbody tr th:only-of-type {\n        vertical-align: middle;\n    }\n\n    .dataframe tbody tr th {\n        vertical-align: top;\n    }\n\n    .dataframe thead th {\n        text-align: right;\n    }\n</style>\n<table border=\"1\" class=\"dataframe\">\n  <thead>\n    <tr style=\"text-align: right;\">\n      <th></th>\n      <th>LON</th>\n      <th>LAT</th>\n      <th>EDO</th>\n      <th>CLAVE_SIH</th>\n      <th>ENE</th>\n      <th>Unnamed: 5</th>\n      <th>Unnamed: 6</th>\n      <th>Unnamed: 7</th>\n      <th>Unnamed: 8</th>\n      <th>Unnamed: 9</th>\n    </tr>\n  </thead>\n  <tbody>\n    <tr>\n      <th>0</th>\n      <td>-102.309722</td>\n      <td>21.895000</td>\n      <td>AGS</td>\n      <td>AGSAG</td>\n      <td>6.61</td>\n      <td>NaN</td>\n      <td>NaN</td>\n      <td>NaN</td>\n      <td>NaN</td>\n      <td>NaN</td>\n    </tr>\n    <tr>\n      <th>1</th>\n      <td>-102.466944</td>\n      <td>22.188611</td>\n      <td>AGS</td>\n      <td>ANVAG</td>\n      <td>10.60</td>\n      <td>NaN</td>\n      <td>NaN</td>\n      <td>NaN</td>\n      <td>NaN</td>\n      <td>NaN</td>\n    </tr>\n    <tr>\n      <th>2</th>\n      <td>-102.184167</td>\n      <td>21.738611</td>\n      <td>AGS</td>\n      <td>BRTAG</td>\n      <td>10.50</td>\n      <td>NaN</td>\n      <td>NaN</td>\n      <td>NaN</td>\n      <td>NaN</td>\n      <td>NaN</td>\n    </tr>\n    <tr>\n      <th>3</th>\n      <td>-102.712222</td>\n      <td>21.849167</td>\n      <td>AGS</td>\n      <td>CALVILLO</td>\n      <td>18.17</td>\n      <td>NaN</td>\n      <td>NaN</td>\n      <td>NaN</td>\n      <td>NaN</td>\n      <td>NaN</td>\n    </tr>\n    <tr>\n      <th>4</th>\n      <td>-102.676944</td>\n      <td>21.997500</td>\n      <td>AGS</td>\n      <td>CDRAG</td>\n      <td>16.70</td>\n      <td>NaN</td>\n      <td>NaN</td>\n      <td>NaN</td>\n      <td>NaN</td>\n      <td>NaN</td>\n    </tr>\n  </tbody>\n</table>\n</div>"
     },
     "metadata": {},
     "execution_count": 144
    }
   ],
   "source": [
    "#Lets call the rain df\n",
    "states = pd.read_csv(\"lluvia_ene.csv\")\n",
    "states.head()\n",
    "\n"
   ]
  },
  {
   "cell_type": "code",
   "execution_count": 145,
   "metadata": {},
   "outputs": [
    {
     "output_type": "execute_result",
     "data": {
      "text/plain": [
       "['AGS',\n",
       " 'BC',\n",
       " 'BCS',\n",
       " 'CAMP',\n",
       " 'CHIH',\n",
       " 'CHIS',\n",
       " 'COAH',\n",
       " 'COL',\n",
       " 'DF',\n",
       " 'DGO',\n",
       " 'GRO',\n",
       " 'GTO',\n",
       " 'HGO',\n",
       " 'JAL',\n",
       " 'MEX',\n",
       " 'MICH',\n",
       " 'MOR',\n",
       " 'NAY',\n",
       " 'NL',\n",
       " 'OAX',\n",
       " 'PUE',\n",
       " 'QRO',\n",
       " 'QROO',\n",
       " 'SIN',\n",
       " 'SLP',\n",
       " 'SON',\n",
       " 'TAB',\n",
       " 'TAMS',\n",
       " 'TLAX',\n",
       " 'VER',\n",
       " 'YUC',\n",
       " 'ZAC']"
      ]
     },
     "metadata": {},
     "execution_count": 145
    }
   ],
   "source": [
    "#lETS extract unique values\n",
    "abreviations = states.EDO.unique() \n",
    "abre = abreviations.tolist()\n",
    "abre"
   ]
  },
  {
   "cell_type": "code",
   "execution_count": 146,
   "metadata": {},
   "outputs": [
    {
     "output_type": "execute_result",
     "data": {
      "text/plain": [
       "['Aguascalientes',\n",
       " 'Baja California',\n",
       " 'Baja California Sur',\n",
       " 'Campeche',\n",
       " 'Coahuila',\n",
       " 'Colima',\n",
       " 'Chiapas',\n",
       " 'Chihuahua',\n",
       " 'Ciudad de Mexico',\n",
       " 'Durango',\n",
       " 'Guanajuato',\n",
       " 'Guerrero',\n",
       " 'Hidalgo',\n",
       " 'Jalisco',\n",
       " 'Estado de Mexico',\n",
       " 'Michoacan',\n",
       " 'Morelos',\n",
       " 'Nayarit',\n",
       " 'Nuevo Leon',\n",
       " 'Oaxaca',\n",
       " 'Puebla',\n",
       " 'Queretaro',\n",
       " 'Quintana Roo',\n",
       " 'San Luis Potosi',\n",
       " 'Sinaloa',\n",
       " 'Sonora',\n",
       " 'Tabasco',\n",
       " 'Tamaulipas',\n",
       " 'Tlaxcala',\n",
       " 'Veracruz',\n",
       " 'Yucatan',\n",
       " 'Zacatecas']"
      ]
     },
     "metadata": {},
     "execution_count": 146
    }
   ],
   "source": [
    "#states_names = weather_df.state.unique()\n",
    "names = weather_df[\"state\"].tolist()\n",
    "names.pop()\n",
    "names"
   ]
  },
  {
   "cell_type": "code",
   "execution_count": 147,
   "metadata": {},
   "outputs": [],
   "source": [
    "#Lets join it with the group\n",
    "states_df = pd.DataFrame({\"id_state\": abre , \"state\" : names})"
   ]
  },
  {
   "cell_type": "code",
   "execution_count": 148,
   "metadata": {},
   "outputs": [
    {
     "output_type": "execute_result",
     "data": {
      "text/plain": [
       "   id_state                state\n",
       "0       AGS       Aguascalientes\n",
       "1        BC      Baja California\n",
       "2       BCS  Baja California Sur\n",
       "3      CAMP             Campeche\n",
       "4      CHIH             Coahuila\n",
       "5      CHIS               Colima\n",
       "6      COAH              Chiapas\n",
       "7       COL            Chihuahua\n",
       "8        DF     Ciudad de Mexico\n",
       "9       DGO              Durango\n",
       "10      GRO           Guanajuato\n",
       "11      GTO             Guerrero\n",
       "12      HGO              Hidalgo\n",
       "13      JAL              Jalisco\n",
       "14      MEX     Estado de Mexico\n",
       "15     MICH            Michoacan\n",
       "16      MOR              Morelos\n",
       "17      NAY              Nayarit\n",
       "18       NL           Nuevo Leon\n",
       "19      OAX               Oaxaca\n",
       "20      PUE               Puebla\n",
       "21      QRO            Queretaro\n",
       "22     QROO         Quintana Roo\n",
       "23      SIN      San Luis Potosi\n",
       "24      SLP              Sinaloa\n",
       "25      SON               Sonora\n",
       "26      TAB              Tabasco\n",
       "27     TAMS           Tamaulipas\n",
       "28     TLAX             Tlaxcala\n",
       "29      VER             Veracruz\n",
       "30      YUC              Yucatan\n",
       "31      ZAC            Zacatecas"
      ],
      "text/html": "<div>\n<style scoped>\n    .dataframe tbody tr th:only-of-type {\n        vertical-align: middle;\n    }\n\n    .dataframe tbody tr th {\n        vertical-align: top;\n    }\n\n    .dataframe thead th {\n        text-align: right;\n    }\n</style>\n<table border=\"1\" class=\"dataframe\">\n  <thead>\n    <tr style=\"text-align: right;\">\n      <th></th>\n      <th>id_state</th>\n      <th>state</th>\n    </tr>\n  </thead>\n  <tbody>\n    <tr>\n      <th>0</th>\n      <td>AGS</td>\n      <td>Aguascalientes</td>\n    </tr>\n    <tr>\n      <th>1</th>\n      <td>BC</td>\n      <td>Baja California</td>\n    </tr>\n    <tr>\n      <th>2</th>\n      <td>BCS</td>\n      <td>Baja California Sur</td>\n    </tr>\n    <tr>\n      <th>3</th>\n      <td>CAMP</td>\n      <td>Campeche</td>\n    </tr>\n    <tr>\n      <th>4</th>\n      <td>CHIH</td>\n      <td>Coahuila</td>\n    </tr>\n    <tr>\n      <th>5</th>\n      <td>CHIS</td>\n      <td>Colima</td>\n    </tr>\n    <tr>\n      <th>6</th>\n      <td>COAH</td>\n      <td>Chiapas</td>\n    </tr>\n    <tr>\n      <th>7</th>\n      <td>COL</td>\n      <td>Chihuahua</td>\n    </tr>\n    <tr>\n      <th>8</th>\n      <td>DF</td>\n      <td>Ciudad de Mexico</td>\n    </tr>\n    <tr>\n      <th>9</th>\n      <td>DGO</td>\n      <td>Durango</td>\n    </tr>\n    <tr>\n      <th>10</th>\n      <td>GRO</td>\n      <td>Guanajuato</td>\n    </tr>\n    <tr>\n      <th>11</th>\n      <td>GTO</td>\n      <td>Guerrero</td>\n    </tr>\n    <tr>\n      <th>12</th>\n      <td>HGO</td>\n      <td>Hidalgo</td>\n    </tr>\n    <tr>\n      <th>13</th>\n      <td>JAL</td>\n      <td>Jalisco</td>\n    </tr>\n    <tr>\n      <th>14</th>\n      <td>MEX</td>\n      <td>Estado de Mexico</td>\n    </tr>\n    <tr>\n      <th>15</th>\n      <td>MICH</td>\n      <td>Michoacan</td>\n    </tr>\n    <tr>\n      <th>16</th>\n      <td>MOR</td>\n      <td>Morelos</td>\n    </tr>\n    <tr>\n      <th>17</th>\n      <td>NAY</td>\n      <td>Nayarit</td>\n    </tr>\n    <tr>\n      <th>18</th>\n      <td>NL</td>\n      <td>Nuevo Leon</td>\n    </tr>\n    <tr>\n      <th>19</th>\n      <td>OAX</td>\n      <td>Oaxaca</td>\n    </tr>\n    <tr>\n      <th>20</th>\n      <td>PUE</td>\n      <td>Puebla</td>\n    </tr>\n    <tr>\n      <th>21</th>\n      <td>QRO</td>\n      <td>Queretaro</td>\n    </tr>\n    <tr>\n      <th>22</th>\n      <td>QROO</td>\n      <td>Quintana Roo</td>\n    </tr>\n    <tr>\n      <th>23</th>\n      <td>SIN</td>\n      <td>San Luis Potosi</td>\n    </tr>\n    <tr>\n      <th>24</th>\n      <td>SLP</td>\n      <td>Sinaloa</td>\n    </tr>\n    <tr>\n      <th>25</th>\n      <td>SON</td>\n      <td>Sonora</td>\n    </tr>\n    <tr>\n      <th>26</th>\n      <td>TAB</td>\n      <td>Tabasco</td>\n    </tr>\n    <tr>\n      <th>27</th>\n      <td>TAMS</td>\n      <td>Tamaulipas</td>\n    </tr>\n    <tr>\n      <th>28</th>\n      <td>TLAX</td>\n      <td>Tlaxcala</td>\n    </tr>\n    <tr>\n      <th>29</th>\n      <td>VER</td>\n      <td>Veracruz</td>\n    </tr>\n    <tr>\n      <th>30</th>\n      <td>YUC</td>\n      <td>Yucatan</td>\n    </tr>\n    <tr>\n      <th>31</th>\n      <td>ZAC</td>\n      <td>Zacatecas</td>\n    </tr>\n  </tbody>\n</table>\n</div>"
     },
     "metadata": {},
     "execution_count": 148
    }
   ],
   "source": [
    "states_df\n"
   ]
  },
  {
   "cell_type": "code",
   "execution_count": 149,
   "metadata": {},
   "outputs": [],
   "source": [
    "#Lets rewrite the two that are inverted\n",
    "states_df.at[4,'state']= 'Chihuahua'\n",
    "states_df.at[5,'state'] = 'Chiapas'\n",
    "states_df.at[6, 'state']= \"Coahuila\"\n",
    "states_df.at[7, 'state']= \"Colima\"\n",
    "states_df.at[10, 'state']= \"Guerrero\"\n",
    "states_df.at[11, 'state']= \"Guanajuato\"\n",
    "states_df.at[23,'state']= 'Sinaloa'\n",
    "states_df.at[24, 'state']= \"San Luis Potosi\""
   ]
  },
  {
   "cell_type": "code",
   "execution_count": 150,
   "metadata": {},
   "outputs": [
    {
     "output_type": "execute_result",
     "data": {
      "text/plain": [
       "   id_state                state\n",
       "0       AGS       Aguascalientes\n",
       "1        BC      Baja California\n",
       "2       BCS  Baja California Sur\n",
       "3      CAMP             Campeche\n",
       "4      CHIH            Chihuahua\n",
       "5      CHIS              Chiapas\n",
       "6      COAH             Coahuila\n",
       "7       COL               Colima\n",
       "8        DF     Ciudad de Mexico\n",
       "9       DGO              Durango\n",
       "10      GRO             Guerrero\n",
       "11      GTO           Guanajuato\n",
       "12      HGO              Hidalgo\n",
       "13      JAL              Jalisco\n",
       "14      MEX     Estado de Mexico\n",
       "15     MICH            Michoacan\n",
       "16      MOR              Morelos\n",
       "17      NAY              Nayarit\n",
       "18       NL           Nuevo Leon\n",
       "19      OAX               Oaxaca\n",
       "20      PUE               Puebla\n",
       "21      QRO            Queretaro\n",
       "22     QROO         Quintana Roo\n",
       "23      SIN              Sinaloa\n",
       "24      SLP      San Luis Potosi\n",
       "25      SON               Sonora\n",
       "26      TAB              Tabasco\n",
       "27     TAMS           Tamaulipas\n",
       "28     TLAX             Tlaxcala\n",
       "29      VER             Veracruz\n",
       "30      YUC              Yucatan\n",
       "31      ZAC            Zacatecas"
      ],
      "text/html": "<div>\n<style scoped>\n    .dataframe tbody tr th:only-of-type {\n        vertical-align: middle;\n    }\n\n    .dataframe tbody tr th {\n        vertical-align: top;\n    }\n\n    .dataframe thead th {\n        text-align: right;\n    }\n</style>\n<table border=\"1\" class=\"dataframe\">\n  <thead>\n    <tr style=\"text-align: right;\">\n      <th></th>\n      <th>id_state</th>\n      <th>state</th>\n    </tr>\n  </thead>\n  <tbody>\n    <tr>\n      <th>0</th>\n      <td>AGS</td>\n      <td>Aguascalientes</td>\n    </tr>\n    <tr>\n      <th>1</th>\n      <td>BC</td>\n      <td>Baja California</td>\n    </tr>\n    <tr>\n      <th>2</th>\n      <td>BCS</td>\n      <td>Baja California Sur</td>\n    </tr>\n    <tr>\n      <th>3</th>\n      <td>CAMP</td>\n      <td>Campeche</td>\n    </tr>\n    <tr>\n      <th>4</th>\n      <td>CHIH</td>\n      <td>Chihuahua</td>\n    </tr>\n    <tr>\n      <th>5</th>\n      <td>CHIS</td>\n      <td>Chiapas</td>\n    </tr>\n    <tr>\n      <th>6</th>\n      <td>COAH</td>\n      <td>Coahuila</td>\n    </tr>\n    <tr>\n      <th>7</th>\n      <td>COL</td>\n      <td>Colima</td>\n    </tr>\n    <tr>\n      <th>8</th>\n      <td>DF</td>\n      <td>Ciudad de Mexico</td>\n    </tr>\n    <tr>\n      <th>9</th>\n      <td>DGO</td>\n      <td>Durango</td>\n    </tr>\n    <tr>\n      <th>10</th>\n      <td>GRO</td>\n      <td>Guerrero</td>\n    </tr>\n    <tr>\n      <th>11</th>\n      <td>GTO</td>\n      <td>Guanajuato</td>\n    </tr>\n    <tr>\n      <th>12</th>\n      <td>HGO</td>\n      <td>Hidalgo</td>\n    </tr>\n    <tr>\n      <th>13</th>\n      <td>JAL</td>\n      <td>Jalisco</td>\n    </tr>\n    <tr>\n      <th>14</th>\n      <td>MEX</td>\n      <td>Estado de Mexico</td>\n    </tr>\n    <tr>\n      <th>15</th>\n      <td>MICH</td>\n      <td>Michoacan</td>\n    </tr>\n    <tr>\n      <th>16</th>\n      <td>MOR</td>\n      <td>Morelos</td>\n    </tr>\n    <tr>\n      <th>17</th>\n      <td>NAY</td>\n      <td>Nayarit</td>\n    </tr>\n    <tr>\n      <th>18</th>\n      <td>NL</td>\n      <td>Nuevo Leon</td>\n    </tr>\n    <tr>\n      <th>19</th>\n      <td>OAX</td>\n      <td>Oaxaca</td>\n    </tr>\n    <tr>\n      <th>20</th>\n      <td>PUE</td>\n      <td>Puebla</td>\n    </tr>\n    <tr>\n      <th>21</th>\n      <td>QRO</td>\n      <td>Queretaro</td>\n    </tr>\n    <tr>\n      <th>22</th>\n      <td>QROO</td>\n      <td>Quintana Roo</td>\n    </tr>\n    <tr>\n      <th>23</th>\n      <td>SIN</td>\n      <td>Sinaloa</td>\n    </tr>\n    <tr>\n      <th>24</th>\n      <td>SLP</td>\n      <td>San Luis Potosi</td>\n    </tr>\n    <tr>\n      <th>25</th>\n      <td>SON</td>\n      <td>Sonora</td>\n    </tr>\n    <tr>\n      <th>26</th>\n      <td>TAB</td>\n      <td>Tabasco</td>\n    </tr>\n    <tr>\n      <th>27</th>\n      <td>TAMS</td>\n      <td>Tamaulipas</td>\n    </tr>\n    <tr>\n      <th>28</th>\n      <td>TLAX</td>\n      <td>Tlaxcala</td>\n    </tr>\n    <tr>\n      <th>29</th>\n      <td>VER</td>\n      <td>Veracruz</td>\n    </tr>\n    <tr>\n      <th>30</th>\n      <td>YUC</td>\n      <td>Yucatan</td>\n    </tr>\n    <tr>\n      <th>31</th>\n      <td>ZAC</td>\n      <td>Zacatecas</td>\n    </tr>\n  </tbody>\n</table>\n</div>"
     },
     "metadata": {},
     "execution_count": 150
    }
   ],
   "source": [
    "states_df"
   ]
  },
  {
   "cell_type": "code",
   "execution_count": 151,
   "metadata": {},
   "outputs": [],
   "source": [
    "#Lets save it\n",
    "states_df.to_csv('../data/states_ids.csv', index = False)"
   ]
  },
  {
   "cell_type": "code",
   "execution_count": null,
   "metadata": {},
   "outputs": [],
   "source": []
  }
 ],
 "metadata": {
  "kernelspec": {
   "display_name": "Python 3",
   "language": "python",
   "name": "python3"
  },
  "language_info": {
   "codemirror_mode": {
    "name": "ipython",
    "version": 3
   },
   "file_extension": ".py",
   "mimetype": "text/x-python",
   "name": "python",
   "nbconvert_exporter": "python",
   "pygments_lexer": "ipython3",
   "version": "3.8.1-final"
  }
 },
 "nbformat": 4,
 "nbformat_minor": 2
}