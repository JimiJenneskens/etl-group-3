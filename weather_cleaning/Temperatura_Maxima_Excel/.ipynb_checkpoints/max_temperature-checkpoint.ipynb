{
 "cells": [
  {
   "cell_type": "markdown",
   "metadata": {},
   "source": [
    "# Maximum temperature\n",
    "\n",
    "The maximum temperature (°C) data for the 32 Mexico's states for the years 2000-2019 are stored in different excel files. Each excel file has 14 columns: one for the state, one for each moth and one for the anual average maximum temperature. It also has 33 rows, one for the National maximum temperature and the other ones for the states.\n",
    "In this notebook the 20 excel files are read as pandas dataframes. For each dataframe, which corresponds to a year, the columns that contain the state and the anual maximum temperature avaerage are selected and coherced into a new pandas dataframe.  Then, a colum named year is added. Each dataframe is concatenated with the last one, ending up with a dataframe with three columns and 640 observations. This is achieved through a for loop.\n",
    "All data is provided by CONAGUA at the web page: https://datos.gob.mx/busca/dataset/temperatura-maxima-excel"
   ]
  },
  {
   "cell_type": "code",
   "execution_count": 1,
   "metadata": {},
   "outputs": [],
   "source": [
    "#Call the dependencies\n",
    "import pandas as pd"
   ]
  },
  {
   "cell_type": "code",
   "execution_count": 2,
   "metadata": {},
   "outputs": [
    {
     "name": "stdout",
     "output_type": "stream",
     "text": [
      "[2000, 2001, 2002, 2003, 2004, 2005, 2006, 2007, 2008, 2009, 2010, 2011, 2012, 2013, 2014, 2015, 2016, 2017, 2018, 2019]\n"
     ]
    }
   ],
   "source": [
    "#Let's create a list of the years of interest\n",
    "years =  [2000+i for i in range(20)]\n",
    "print(years)"
   ]
  },
  {
   "cell_type": "code",
   "execution_count": 3,
   "metadata": {},
   "outputs": [
    {
     "data": {
      "text/html": [
       "<div>\n",
       "<style scoped>\n",
       "    .dataframe tbody tr th:only-of-type {\n",
       "        vertical-align: middle;\n",
       "    }\n",
       "\n",
       "    .dataframe tbody tr th {\n",
       "        vertical-align: top;\n",
       "    }\n",
       "\n",
       "    .dataframe thead th {\n",
       "        text-align: right;\n",
       "    }\n",
       "</style>\n",
       "<table border=\"1\" class=\"dataframe\">\n",
       "  <thead>\n",
       "    <tr style=\"text-align: right;\">\n",
       "      <th></th>\n",
       "      <th>state</th>\n",
       "      <th>maximum_temperature</th>\n",
       "      <th>year</th>\n",
       "      <th>id_state</th>\n",
       "    </tr>\n",
       "  </thead>\n",
       "  <tbody>\n",
       "  </tbody>\n",
       "</table>\n",
       "</div>"
      ],
      "text/plain": [
       "Empty DataFrame\n",
       "Columns: [state, maximum_temperature, year, id_state]\n",
       "Index: []"
      ]
     },
     "execution_count": 3,
     "metadata": {},
     "output_type": "execute_result"
    }
   ],
   "source": [
    "#Create an empty dataframe\n",
    "max_temp = pd.DataFrame(columns = ['state', 'maximum_temperature', 'year','id_state']) \n",
    "max_temp"
   ]
  },
  {
   "cell_type": "code",
   "execution_count": 4,
   "metadata": {},
   "outputs": [],
   "source": [
    "#Createa loop to read the excel file for each year, tranform and concatenete to main df\n",
    "#Generate a loop to read the file and combine it in a unique df\n",
    "for year in years:\n",
    "    #Create the path to each excel file\n",
    "    path =f\"{year}Tmax.xlsx\"\n",
    "    #Read the excel file\n",
    "    prueba = pd.read_excel (path)\n",
    "    #Drop national observation\n",
    "    prueba.drop(prueba.tail(1).index, inplace = True) \n",
    "    #Select the columns of interest as a list\n",
    "    data = [prueba[\"ENTIDAD\"], prueba[\"ANUAL\"]]\n",
    "    #Cretae the name of the columns\n",
    "    headers = [\"state\", \"maximum_temperature\"]\n",
    "    #Coherce in a df\n",
    "    aux = pd.concat(data, axis=1, keys=headers)\n",
    "    #Add a column with the year \n",
    "    aux[\"year\"] = [year] * 32\n",
    "    aux.sort_values(by=['state'], inplace=True)\n",
    "    #Lets create a numeric id\n",
    "    seq_s = [i+1 for i in  range(32)]\n",
    "    #Lets add it to the df\n",
    "    aux['id_state'] = seq_s\n",
    "    #Concatenate in max_tem\n",
    "    max_temp = pd.concat([max_temp, aux])"
   ]
  },
  {
   "cell_type": "code",
   "execution_count": 5,
   "metadata": {},
   "outputs": [
    {
     "data": {
      "text/html": [
       "<div>\n",
       "<style scoped>\n",
       "    .dataframe tbody tr th:only-of-type {\n",
       "        vertical-align: middle;\n",
       "    }\n",
       "\n",
       "    .dataframe tbody tr th {\n",
       "        vertical-align: top;\n",
       "    }\n",
       "\n",
       "    .dataframe thead th {\n",
       "        text-align: right;\n",
       "    }\n",
       "</style>\n",
       "<table border=\"1\" class=\"dataframe\">\n",
       "  <thead>\n",
       "    <tr style=\"text-align: right;\">\n",
       "      <th></th>\n",
       "      <th>state</th>\n",
       "      <th>maximum_temperature</th>\n",
       "      <th>year</th>\n",
       "      <th>id_state</th>\n",
       "    </tr>\n",
       "  </thead>\n",
       "  <tbody>\n",
       "    <tr>\n",
       "      <td>0</td>\n",
       "      <td>AGUASCALIENTES</td>\n",
       "      <td>26.932250</td>\n",
       "      <td>2000</td>\n",
       "      <td>1</td>\n",
       "    </tr>\n",
       "    <tr>\n",
       "      <td>1</td>\n",
       "      <td>BAJA CALIFORNIA</td>\n",
       "      <td>26.933117</td>\n",
       "      <td>2000</td>\n",
       "      <td>2</td>\n",
       "    </tr>\n",
       "    <tr>\n",
       "      <td>2</td>\n",
       "      <td>BAJA CALIFORNIA SUR</td>\n",
       "      <td>30.597415</td>\n",
       "      <td>2000</td>\n",
       "      <td>3</td>\n",
       "    </tr>\n",
       "    <tr>\n",
       "      <td>3</td>\n",
       "      <td>CAMPECHE</td>\n",
       "      <td>32.666320</td>\n",
       "      <td>2000</td>\n",
       "      <td>4</td>\n",
       "    </tr>\n",
       "    <tr>\n",
       "      <td>6</td>\n",
       "      <td>CHIAPAS</td>\n",
       "      <td>30.029211</td>\n",
       "      <td>2000</td>\n",
       "      <td>5</td>\n",
       "    </tr>\n",
       "    <tr>\n",
       "      <td>...</td>\n",
       "      <td>...</td>\n",
       "      <td>...</td>\n",
       "      <td>...</td>\n",
       "      <td>...</td>\n",
       "    </tr>\n",
       "    <tr>\n",
       "      <td>27</td>\n",
       "      <td>TAMAULIPAS</td>\n",
       "      <td>31.200000</td>\n",
       "      <td>2019</td>\n",
       "      <td>28</td>\n",
       "    </tr>\n",
       "    <tr>\n",
       "      <td>28</td>\n",
       "      <td>TLAXCALA</td>\n",
       "      <td>24.300000</td>\n",
       "      <td>2019</td>\n",
       "      <td>29</td>\n",
       "    </tr>\n",
       "    <tr>\n",
       "      <td>29</td>\n",
       "      <td>VERACRUZ</td>\n",
       "      <td>29.100000</td>\n",
       "      <td>2019</td>\n",
       "      <td>30</td>\n",
       "    </tr>\n",
       "    <tr>\n",
       "      <td>30</td>\n",
       "      <td>YUCATÁN</td>\n",
       "      <td>33.800000</td>\n",
       "      <td>2019</td>\n",
       "      <td>31</td>\n",
       "    </tr>\n",
       "    <tr>\n",
       "      <td>31</td>\n",
       "      <td>ZACATECAS</td>\n",
       "      <td>27.000000</td>\n",
       "      <td>2019</td>\n",
       "      <td>32</td>\n",
       "    </tr>\n",
       "  </tbody>\n",
       "</table>\n",
       "<p>640 rows × 4 columns</p>\n",
       "</div>"
      ],
      "text/plain": [
       "                  state  maximum_temperature  year id_state\n",
       "0        AGUASCALIENTES            26.932250  2000        1\n",
       "1       BAJA CALIFORNIA            26.933117  2000        2\n",
       "2   BAJA CALIFORNIA SUR            30.597415  2000        3\n",
       "3              CAMPECHE            32.666320  2000        4\n",
       "6               CHIAPAS            30.029211  2000        5\n",
       "..                  ...                  ...   ...      ...\n",
       "27           TAMAULIPAS            31.200000  2019       28\n",
       "28             TLAXCALA            24.300000  2019       29\n",
       "29             VERACRUZ            29.100000  2019       30\n",
       "30              YUCATÁN            33.800000  2019       31\n",
       "31            ZACATECAS            27.000000  2019       32\n",
       "\n",
       "[640 rows x 4 columns]"
      ]
     },
     "execution_count": 5,
     "metadata": {},
     "output_type": "execute_result"
    }
   ],
   "source": [
    "max_temp"
   ]
  },
  {
   "cell_type": "code",
   "execution_count": 6,
   "metadata": {},
   "outputs": [],
   "source": [
    "#Save it\n",
    "max_temp.to_csv('../maximum_temp.csv', index = False)"
   ]
  },
  {
   "cell_type": "code",
   "execution_count": null,
   "metadata": {},
   "outputs": [],
   "source": []
  }
 ],
 "metadata": {
  "kernelspec": {
   "display_name": "Python 3",
   "language": "python",
   "name": "python3"
  },
  "language_info": {
   "codemirror_mode": {
    "name": "ipython",
    "version": 3
   },
   "file_extension": ".py",
   "mimetype": "text/x-python",
   "name": "python",
   "nbconvert_exporter": "python",
   "pygments_lexer": "ipython3",
   "version": "3.7.4"
  }
 },
 "nbformat": 4,
 "nbformat_minor": 2
}
